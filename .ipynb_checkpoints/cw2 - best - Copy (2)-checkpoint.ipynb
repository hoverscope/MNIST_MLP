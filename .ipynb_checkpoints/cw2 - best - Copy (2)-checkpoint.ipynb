{
 "cells": [
  {
   "cell_type": "code",
   "execution_count": 814,
   "id": "dcfdd883",
   "metadata": {},
   "outputs": [],
   "source": [
    "#library imports numpy, pandas and matplotlib\n",
    "import numpy as np\n",
    "import pandas as pd \n",
    "import matplotlib.pyplot as plt\n"
   ]
  },
  {
   "cell_type": "code",
   "execution_count": 815,
   "id": "067eed4e",
   "metadata": {},
   "outputs": [],
   "source": [
    "#importing dataset using pandas\n",
    "#df_train for training and df_test for testig purposes\n",
    "df_train  = pd.read_csv('data/dataSet1.csv', header = None)\n",
    "df_test  = pd.read_csv('data/dataSet2.csv', header = None)\n"
   ]
  },
  {
   "cell_type": "code",
   "execution_count": 816,
   "id": "92357144",
   "metadata": {},
   "outputs": [],
   "source": [
    "#creating numpy arrays train and test out of pd dataframe for easier data manipulation \n",
    "train = df_train.to_numpy()\n",
    "test = df_test.to_numpy()\n"
   ]
  },
  {
   "cell_type": "code",
   "execution_count": 817,
   "id": "f8f0834b",
   "metadata": {},
   "outputs": [
    {
     "data": {
      "text/plain": [
       "(2810, 65)"
      ]
     },
     "execution_count": 817,
     "metadata": {},
     "output_type": "execute_result"
    }
   ],
   "source": [
    "#checking array shape for verfication \n",
    "train.shape\n"
   ]
  },
  {
   "cell_type": "code",
   "execution_count": 818,
   "id": "4c461528",
   "metadata": {},
   "outputs": [],
   "source": [
    "#creating train and test data\n",
    "X_train = train[:, :64] #X_train contains all input values wich are the pixel values here\n",
    "Y_train = train[:, 64] #Y_train contains all label/output values wich are the actual numbers\n",
    "\n",
    "\n",
    "#similary this will be test data\n",
    "X_test = test[:, :64]\n",
    "Y_test = test[:, 64]\n"
   ]
  },
  {
   "cell_type": "code",
   "execution_count": 819,
   "id": "25425d0f",
   "metadata": {},
   "outputs": [],
   "source": [
    "#defining hyperparameters \n",
    "#h is the number of neurons in the hidden layer\n",
    "#training_cycles is number of cycles\n",
    "#learning_rate is to control the models learning rate\n",
    "\n",
    "h = 180\n",
    "training_cycles = 5000\n",
    "learning_rate = 0.005\n",
    "lambda_reg = 0.01\n",
    "\n"
   ]
  },
  {
   "cell_type": "code",
   "execution_count": 820,
   "id": "c2cd80ab",
   "metadata": {},
   "outputs": [],
   "source": [
    "def init_params(h):\n",
    "    w1 = np.random.randn(h, 64) * np.sqrt(2. / (64))  # He initialization\n",
    "    b1 = np.zeros((h, 1))  \n",
    "    w2 = np.random.randn(10, h) * np.sqrt(2. / (h))  # He initialization\n",
    "    b2 = np.zeros((10, 1))  \n",
    "    return w1, b1, w2, b2\n"
   ]
  },
  {
   "cell_type": "code",
   "execution_count": 821,
   "id": "f4325387",
   "metadata": {},
   "outputs": [],
   "source": [
    "#defineing ReLU function\n",
    "def ReLU(Z):\n",
    "    return np.maximum(0,Z)\n"
   ]
  },
  {
   "cell_type": "code",
   "execution_count": 822,
   "id": "feca330b",
   "metadata": {},
   "outputs": [],
   "source": [
    "#defineing Sigmoid function\n",
    "def sigmoid(Z):\n",
    "    return 1/(1+np.exp(-Z))\n"
   ]
  },
  {
   "cell_type": "code",
   "execution_count": 823,
   "id": "f2161610",
   "metadata": {},
   "outputs": [],
   "source": [
    "#defining softmax function\n",
    "def softmax(Z):\n",
    "    expZ = np.exp(Z - np.max(Z, axis=0, keepdims=True))  # Subtract max for numerical stability\n",
    "    return expZ / np.sum(expZ, axis=0, keepdims=True)"
   ]
  },
  {
   "cell_type": "code",
   "execution_count": 824,
   "id": "4b1f4719",
   "metadata": {},
   "outputs": [],
   "source": [
    "def LeakyReLU(Z, alpha=0.01):\n",
    "    return np.where(Z > 0, Z, alpha * Z)\n"
   ]
  },
  {
   "cell_type": "code",
   "execution_count": 825,
   "id": "0301d182",
   "metadata": {},
   "outputs": [],
   "source": [
    "#Forward Propogation Function\n",
    "def feed_forward(w1, b1, w2, b2, X):\n",
    "    Z1 = w1.dot(X.T) + b1 #input layer dot product with bias added\n",
    "    A1 = LeakyReLU(Z1) #ReLU activation function\n",
    "    Z2 = w2.dot(A1) + b2 #hidden layer dot product with bias added\n",
    "    A2 = sigmoid(Z2) #sigmoid activation\n",
    "   \n",
    "    return Z1, A1, Z2, A2\n"
   ]
  },
  {
   "cell_type": "code",
   "execution_count": 826,
   "id": "47462366",
   "metadata": {},
   "outputs": [],
   "source": [
    "#mapping label to an array\n",
    "#ex: if label is 5 then map the 4th element as 1\n",
    "\n",
    "def map_labels(Y):\n",
    "    l1 = len(Y) #get len of the array\n",
    "    l2 = 10 #10 as the numbers range from 0-9\n",
    "    mapped_label = np.zeros((l2, l1), dtype=int)\n",
    "    for i, label in enumerate(Y):\n",
    "        mapped_label[label][i] = 1\n",
    "    return mapped_label\n"
   ]
  },
  {
   "cell_type": "code",
   "execution_count": 827,
   "id": "92d97f4c",
   "metadata": {},
   "outputs": [],
   "source": [
    "# Backpropagation for the softmax output\n",
    "def back_prop(Z1, A1, Z2, A2, w2, X, Y):\n",
    "    m = Y.size\n",
    "    mapped_label = map_labels(Y)\n",
    "    \n",
    "    dZ2 = A2 - mapped_label  # Error for output layer with softmax\n",
    "    dw2 = (1 / m) * np.dot(dZ2, A1.T)  # Gradient for w2\n",
    "    db2 = (1 / m) * np.sum(dZ2, axis=1, keepdims=True)\n",
    "    \n",
    "    # Backpropagation for the hidden layer (Z1 -> A1)\n",
    "    dZ1 = np.dot(w2.T, dZ2) * (A1 > 0)  # Derivative of ReLU\n",
    "    dw1 = (1 / m) * np.dot(dZ1, X)\n",
    "    db1 = (1 / m) * np.sum(dZ1, axis=1, keepdims=True)\n",
    "    \n",
    "    return dw1, db1, dw2, db2\n"
   ]
  },
  {
   "cell_type": "code",
   "execution_count": 828,
   "id": "9824e320",
   "metadata": {},
   "outputs": [],
   "source": [
    "#function to update the params as we train\n",
    "#alpha is the learning rate\n",
    "\n",
    "\n",
    "def update_params(w1, b1, w2, b2, dw1, db1, dw2, db2, alpha):\n",
    "    w1 = w1 - alpha * (dw1 + lambda_reg * w1)\n",
    "    b1 = b1 - alpha * db1\n",
    "    w2 = w2 - alpha * (dw2 + lambda_reg * w2)\n",
    "    b2 = b2 - alpha * db2\n",
    "    return w1, b1, w2, b2\n"
   ]
  },
  {
   "cell_type": "code",
   "execution_count": 829,
   "id": "64f070cf",
   "metadata": {},
   "outputs": [],
   "source": [
    "#function to get predictions\n",
    "def get_predictions(A2):\n",
    "    return np.argmax(A2, axis=0) "
   ]
  },
  {
   "cell_type": "code",
   "execution_count": 830,
   "id": "15cec39c",
   "metadata": {},
   "outputs": [],
   "source": [
    "def get_accuracy(predictions, Y):\n",
    "    mapped_label = map_labels(Y)\n",
    "    accuracy = np.sum(predictions == np.argmax(mapped_label, axis=0)) / Y.size *100\n",
    "    return accuracy\n"
   ]
  },
  {
   "cell_type": "code",
   "execution_count": null,
   "id": "da647ddb",
   "metadata": {},
   "outputs": [],
   "source": [
    "def compute_cost(A2, Y, w1, w2, lambda_reg):\n",
    "    m = Y.size\n",
    "    mapped_label = map_labels(Y)\n",
    "    cross_entropy_loss = -np.mean(np.sum(mapped_label * np.log(A2), axis=0))\n",
    "    L2_reg = (lambda_reg / (2 * m)) * (np.sum(np.square(w1)) + np.sum(np.square(w2)))\n",
    "    return cross_entropy_loss + L2_reg\n"
   ]
  },
  {
   "cell_type": "code",
   "execution_count": 831,
   "id": "b057a8bb",
   "metadata": {},
   "outputs": [],
   "source": [
    "def train_network(X_train, Y_train,iterations, alpha):\n",
    "    w1, b1, w2, b2 = init_params(h)\n",
    "\n",
    "    for i in range(iterations):\n",
    "        Z1, A1, Z2, A2 = feed_forward(w1, b1, w2, b2, X_train)\n",
    "        dw1, db1, dw2, db2 = back_prop(Z1, A1, Z2, A2, w2, X_train, Y_train)\n",
    "        w1, b1, w2, b2 = update_params(w1, b1, w2, b2, dw1, db1, dw2, db2, alpha)\n",
    "        \n",
    "        if i % 2000 == 0:\n",
    "            print(\"Iteration:\", i)\n",
    "            cost = compute_cost(A2, Y_train, w1, w2, lambda_reg)\n",
    "\n",
    "            print(\"Accuracy:\", get_accuracy(get_predictions(A2), Y_train))\n",
    "            \n",
    "    return w1, b1, w2, b2"
   ]
  },
  {
   "cell_type": "code",
   "execution_count": 832,
   "id": "2d935ad9",
   "metadata": {
    "scrolled": false
   },
   "outputs": [
    {
     "name": "stdout",
     "output_type": "stream",
     "text": [
      "Iteration: 0\n",
      "Accuracy: 9.750889679715302\n",
      "Iteration: 2000\n",
      "Accuracy: 99.1814946619217\n",
      "Iteration: 4000\n",
      "Accuracy: 99.7153024911032\n"
     ]
    }
   ],
   "source": [
    "w1, b1, w2, b2 = train_network(X_train, Y_train,training_cycles, learning_rate)"
   ]
  },
  {
   "cell_type": "code",
   "execution_count": 833,
   "id": "77cd6931",
   "metadata": {},
   "outputs": [],
   "source": [
    "def predict(X, Y, index, w1, b1, w2, b2):\n",
    "    \n",
    "    Z1, A1, Z2, A2 = feed_forward(w1, b1, w2, b2, X)\n",
    "    \n",
    "    predictions = get_predictions(A2)\n",
    "    \n",
    "    predicted_label = predictions[index]\n",
    "    \n",
    "    actual_label = Y[index]\n",
    "    \n",
    "    image_data = X[index, :64].reshape(8, 8)   \n",
    "    \n",
    "    plt.imshow(image_data, cmap='gray')\n",
    "    plt.axis('off')  # Hide the axes for a clean plot\n",
    "    plt.title(f\"Predicted: {predicted_label}, Actual: {actual_label}\")\n",
    "    plt.show()\n",
    "    \n",
    "    # Print the predicted and actual labels for the given index\n",
    "    print(f\"Index: {index}\")\n",
    "    print(f\"Predicted Label: {predicted_label}\")\n",
    "    print(f\"Actual Label: {actual_label}\")\n"
   ]
  },
  {
   "cell_type": "code",
   "execution_count": 834,
   "id": "18966659",
   "metadata": {},
   "outputs": [],
   "source": [
    "def split_data(X, Y):\n",
    "    n = X.shape[0]\n",
    "    \n",
    "    fold_size = n // 2\n",
    "    X_fold1, X_fold2 = X[:fold_size], X[fold_size:]\n",
    "    Y_fold1, Y_fold2 = Y[:fold_size], Y[fold_size:]\n",
    "    \n",
    "    return (X_fold1, Y_fold1), (X_fold2, Y_fold2)"
   ]
  },
  {
   "cell_type": "code",
   "execution_count": 835,
   "id": "ec946dfc",
   "metadata": {},
   "outputs": [],
   "source": [
    "def model_eval(X, Y, w1, b1, w2, b2):\n",
    "\n",
    "    Z1, A1, Z2, A2 = feed_forward(w1, b1, w2, b2, X)  \n",
    "    predictions = get_predictions(A2)                \n",
    "    accuracy = get_accuracy(predictions, Y)          \n",
    "    print(f\"Accuracy on Test Data: {accuracy:.2f}%\")  \n",
    "    return accuracy\n"
   ]
  },
  {
   "cell_type": "code",
   "execution_count": 836,
   "id": "0beb7b96",
   "metadata": {},
   "outputs": [
    {
     "name": "stdout",
     "output_type": "stream",
     "text": [
      "Accuracy on Test Data: 96.65%\n"
     ]
    }
   ],
   "source": [
    "accuracy = model_eval(X_test, Y_test, w1, b1, w2, b2)\n"
   ]
  },
  {
   "cell_type": "code",
   "execution_count": null,
   "id": "37e51d12",
   "metadata": {
    "scrolled": false
   },
   "outputs": [
    {
     "name": "stderr",
     "output_type": "stream",
     "text": [
      "[I 2024-11-19 14:47:13,051] A new study created in memory with name: no-name-3696ebac-2872-4eda-b4aa-fe0404ac8e4f\n"
     ]
    },
    {
     "name": "stdout",
     "output_type": "stream",
     "text": [
      "Iteration: 0\n",
      "Accuracy: 10.92526690391459\n"
     ]
    },
    {
     "name": "stderr",
     "output_type": "stream",
     "text": [
      "C:\\Users\\sohai\\AppData\\Local\\Temp\\ipykernel_15964\\4103511888.py:7: FutureWarning: suggest_loguniform has been deprecated in v3.0.0. This feature will be removed in v6.0.0. See https://github.com/optuna/optuna/releases/tag/v3.0.0. Use suggest_float(..., log=True) instead.\n",
      "  alpha = trial.suggest_loguniform(\"alpha\", 1e-5, 1e-2)  # Learning rate\n"
     ]
    },
    {
     "name": "stdout",
     "output_type": "stream",
     "text": [
      "Iteration: 2000\n",
      "Accuracy: 98.29181494661921\n"
     ]
    },
    {
     "name": "stderr",
     "output_type": "stream",
     "text": [
      "[I 2024-11-19 14:47:50,132] Trial 0 finished with value: 96.01423487544484 and parameters: {'h': 70, 'alpha': 0.0022301338646417072, 'iterations': 4000}. Best is trial 0 with value: 96.01423487544484.\n"
     ]
    },
    {
     "name": "stdout",
     "output_type": "stream",
     "text": [
      "Accuracy on Test Data: 96.01%\n",
      "Iteration: 0\n",
      "Accuracy: 9.679715302491102\n",
      "Iteration: 2000\n",
      "Accuracy: 99.11032028469751\n",
      "Iteration: 4000\n",
      "Accuracy: 99.7153024911032\n",
      "Iteration: 6000\n",
      "Accuracy: 99.7508896797153\n",
      "Iteration: 8000\n",
      "Accuracy: 99.8220640569395\n"
     ]
    },
    {
     "name": "stderr",
     "output_type": "stream",
     "text": [
      "[I 2024-11-19 14:49:13,011] Trial 1 finished with value: 96.65480427046263 and parameters: {'h': 140, 'alpha': 0.004114726982799451, 'iterations': 9000}. Best is trial 1 with value: 96.65480427046263.\n"
     ]
    },
    {
     "name": "stdout",
     "output_type": "stream",
     "text": [
      "Accuracy on Test Data: 96.65%\n",
      "Iteration: 0\n",
      "Accuracy: 14.519572953736654\n",
      "Iteration: 2000\n",
      "Accuracy: 94.73309608540926\n",
      "Iteration: 4000\n",
      "Accuracy: 96.54804270462634\n",
      "Iteration: 6000\n",
      "Accuracy: 97.40213523131672\n",
      "Iteration: 8000\n",
      "Accuracy: 97.72241992882562\n"
     ]
    },
    {
     "name": "stderr",
     "output_type": "stream",
     "text": [
      "[I 2024-11-19 14:50:40,842] Trial 2 finished with value: 94.73309608540926 and parameters: {'h': 90, 'alpha': 0.00041768922002141033, 'iterations': 9500}. Best is trial 1 with value: 96.65480427046263.\n"
     ]
    },
    {
     "name": "stdout",
     "output_type": "stream",
     "text": [
      "Accuracy on Test Data: 94.73%\n",
      "Iteration: 0\n",
      "Accuracy: 10.142348754448399\n",
      "Iteration: 2000\n",
      "Accuracy: 99.2526690391459\n"
     ]
    },
    {
     "name": "stderr",
     "output_type": "stream",
     "text": [
      "[I 2024-11-19 14:51:03,286] Trial 3 finished with value: 96.65480427046263 and parameters: {'h': 190, 'alpha': 0.006199432773953168, 'iterations': 2500}. Best is trial 1 with value: 96.65480427046263.\n"
     ]
    },
    {
     "name": "stdout",
     "output_type": "stream",
     "text": [
      "Accuracy on Test Data: 96.65%\n",
      "Iteration: 0\n",
      "Accuracy: 9.466192170818506\n"
     ]
    },
    {
     "name": "stderr",
     "output_type": "stream",
     "text": [
      "[I 2024-11-19 14:51:21,914] Trial 4 finished with value: 42.84697508896797 and parameters: {'h': 90, 'alpha': 1.9002239758720952e-05, 'iterations': 2000}. Best is trial 1 with value: 96.65480427046263.\n"
     ]
    },
    {
     "name": "stdout",
     "output_type": "stream",
     "text": [
      "Accuracy on Test Data: 42.85%\n",
      "Iteration: 0\n",
      "Accuracy: 14.02135231316726\n",
      "Iteration: 2000\n",
      "Accuracy: 97.72241992882562\n"
     ]
    },
    {
     "name": "stderr",
     "output_type": "stream",
     "text": [
      "[I 2024-11-19 14:51:57,994] Trial 5 finished with value: 95.94306049822065 and parameters: {'h': 50, 'alpha': 0.001585473119527683, 'iterations': 4000}. Best is trial 1 with value: 96.65480427046263.\n"
     ]
    },
    {
     "name": "stdout",
     "output_type": "stream",
     "text": [
      "Accuracy on Test Data: 95.94%\n",
      "Iteration: 0\n",
      "Accuracy: 5.124555160142349\n",
      "Iteration: 2000\n",
      "Accuracy: 89.4306049822064\n"
     ]
    },
    {
     "name": "stderr",
     "output_type": "stream",
     "text": [
      "[I 2024-11-19 14:52:21,031] Trial 6 finished with value: 88.32740213523131 and parameters: {'h': 150, 'alpha': 0.00013163058809722558, 'iterations': 2500}. Best is trial 1 with value: 96.65480427046263.\n"
     ]
    },
    {
     "name": "stdout",
     "output_type": "stream",
     "text": [
      "Accuracy on Test Data: 88.33%\n",
      "Iteration: 0\n",
      "Accuracy: 6.476868327402135\n",
      "Iteration: 2000\n",
      "Accuracy: 96.15658362989323\n"
     ]
    },
    {
     "name": "stderr",
     "output_type": "stream",
     "text": [
      "[I 2024-11-19 14:52:48,190] Trial 7 finished with value: 94.09252669039145 and parameters: {'h': 100, 'alpha': 0.0007884879158963536, 'iterations': 3000}. Best is trial 1 with value: 96.65480427046263.\n"
     ]
    },
    {
     "name": "stdout",
     "output_type": "stream",
     "text": [
      "Accuracy on Test Data: 94.09%\n",
      "Iteration: 0\n",
      "Accuracy: 12.811387900355871\n"
     ]
    },
    {
     "name": "stderr",
     "output_type": "stream",
     "text": [
      "[I 2024-11-19 14:53:06,059] Trial 8 finished with value: 45.37366548042704 and parameters: {'h': 170, 'alpha': 1.6507394903320364e-05, 'iterations': 2000}. Best is trial 1 with value: 96.65480427046263.\n"
     ]
    },
    {
     "name": "stdout",
     "output_type": "stream",
     "text": [
      "Accuracy on Test Data: 45.37%\n",
      "Iteration: 0\n",
      "Accuracy: 14.661921708185051\n",
      "Iteration: 2000\n",
      "Accuracy: 35.40925266903915\n",
      "Iteration: 4000\n",
      "Accuracy: 61.35231316725979\n",
      "Iteration: 6000\n",
      "Accuracy: 74.23487544483986\n",
      "Iteration: 8000\n",
      "Accuracy: 80.64056939501779\n"
     ]
    },
    {
     "name": "stderr",
     "output_type": "stream",
     "text": [
      "[I 2024-11-19 14:54:30,823] Trial 9 finished with value: 79.9288256227758 and parameters: {'h': 100, 'alpha': 1.6220027311667258e-05, 'iterations': 9000}. Best is trial 1 with value: 96.65480427046263.\n"
     ]
    },
    {
     "name": "stdout",
     "output_type": "stream",
     "text": [
      "Accuracy on Test Data: 79.93%\n",
      "Iteration: 0\n",
      "Accuracy: 23.629893238434164\n",
      "Iteration: 2000\n",
      "Accuracy: 99.7153024911032\n",
      "Iteration: 4000\n",
      "Accuracy: 99.8932384341637\n",
      "Iteration: 6000\n",
      "Accuracy: 99.9644128113879\n"
     ]
    },
    {
     "name": "stderr",
     "output_type": "stream",
     "text": [
      "[I 2024-11-19 14:55:35,198] Trial 10 finished with value: 97.04626334519573 and parameters: {'h': 130, 'alpha': 0.009804688543106819, 'iterations': 7000}. Best is trial 10 with value: 97.04626334519573.\n"
     ]
    },
    {
     "name": "stdout",
     "output_type": "stream",
     "text": [
      "Accuracy on Test Data: 97.05%\n",
      "Iteration: 0\n",
      "Accuracy: 9.430604982206406\n",
      "Iteration: 2000\n",
      "Accuracy: 99.644128113879\n",
      "Iteration: 4000\n",
      "Accuracy: 99.8932384341637\n",
      "Iteration: 6000\n",
      "Accuracy: 99.9644128113879\n"
     ]
    },
    {
     "name": "stderr",
     "output_type": "stream",
     "text": [
      "[I 2024-11-19 14:56:39,766] Trial 11 finished with value: 97.40213523131672 and parameters: {'h': 140, 'alpha': 0.008576680398077382, 'iterations': 7000}. Best is trial 11 with value: 97.40213523131672.\n"
     ]
    },
    {
     "name": "stdout",
     "output_type": "stream",
     "text": [
      "Accuracy on Test Data: 97.40%\n",
      "Iteration: 0\n",
      "Accuracy: 10.142348754448399\n",
      "Iteration: 2000\n",
      "Accuracy: 99.644128113879\n",
      "Iteration: 4000\n",
      "Accuracy: 99.85765124555161\n",
      "Iteration: 6000\n",
      "Accuracy: 99.8932384341637\n"
     ]
    },
    {
     "name": "stderr",
     "output_type": "stream",
     "text": [
      "[I 2024-11-19 14:57:43,893] Trial 12 finished with value: 97.18861209964412 and parameters: {'h': 130, 'alpha': 0.008326963400763738, 'iterations': 7000}. Best is trial 11 with value: 97.40213523131672.\n"
     ]
    },
    {
     "name": "stdout",
     "output_type": "stream",
     "text": [
      "Accuracy on Test Data: 97.19%\n",
      "Iteration: 0\n",
      "Accuracy: 6.120996441281139\n",
      "Iteration: 2000\n",
      "Accuracy: 78.39857651245552\n",
      "Iteration: 4000\n",
      "Accuracy: 87.25978647686833\n",
      "Iteration: 6000\n",
      "Accuracy: 90.8185053380783\n"
     ]
    },
    {
     "name": "stderr",
     "output_type": "stream",
     "text": [
      "[I 2024-11-19 14:58:48,499] Trial 13 finished with value: 87.61565836298932 and parameters: {'h': 160, 'alpha': 7.394997770741719e-05, 'iterations': 7000}. Best is trial 11 with value: 97.40213523131672.\n"
     ]
    },
    {
     "name": "stdout",
     "output_type": "stream",
     "text": [
      "Accuracy on Test Data: 87.62%\n",
      "Iteration: 0\n",
      "Accuracy: 4.056939501779359\n",
      "Iteration: 2000\n",
      "Accuracy: 98.32740213523131\n",
      "Iteration: 4000\n",
      "Accuracy: 99.14590747330962\n",
      "Iteration: 6000\n",
      "Accuracy: 99.5729537366548\n"
     ]
    },
    {
     "name": "stderr",
     "output_type": "stream",
     "text": [
      "[I 2024-11-19 14:59:52,478] Trial 14 finished with value: 96.65480427046263 and parameters: {'h': 120, 'alpha': 0.0026157891572822804, 'iterations': 7000}. Best is trial 11 with value: 97.40213523131672.\n"
     ]
    },
    {
     "name": "stdout",
     "output_type": "stream",
     "text": [
      "Accuracy on Test Data: 96.65%\n",
      "Iteration: 0\n",
      "Accuracy: 8.505338078291814\n",
      "Iteration: 2000\n",
      "Accuracy: 97.65124555160143\n",
      "Iteration: 4000\n",
      "Accuracy: 98.86120996441281\n"
     ]
    },
    {
     "name": "stderr",
     "output_type": "stream",
     "text": [
      "[I 2024-11-19 15:00:42,500] Trial 15 finished with value: 95.97864768683274 and parameters: {'h': 180, 'alpha': 0.0012520048053504037, 'iterations': 5500}. Best is trial 11 with value: 97.40213523131672.\n"
     ]
    },
    {
     "name": "stdout",
     "output_type": "stream",
     "text": [
      "Accuracy on Test Data: 95.98%\n",
      "Iteration: 0\n",
      "Accuracy: 4.341637010676156\n",
      "Iteration: 2000\n",
      "Accuracy: 99.5729537366548\n",
      "Iteration: 4000\n",
      "Accuracy: 99.9644128113879\n"
     ]
    },
    {
     "name": "stderr",
     "output_type": "stream",
     "text": [
      "[I 2024-11-19 15:01:36,443] Trial 16 finished with value: 97.40213523131672 and parameters: {'h': 120, 'alpha': 0.00865624230715142, 'iterations': 6000}. Best is trial 11 with value: 97.40213523131672.\n"
     ]
    },
    {
     "name": "stdout",
     "output_type": "stream",
     "text": [
      "Accuracy on Test Data: 97.40%\n",
      "Iteration: 0\n",
      "Accuracy: 15.373665480427047\n",
      "Iteration: 2000\n",
      "Accuracy: 96.04982206405694\n",
      "Iteration: 4000\n",
      "Accuracy: 97.08185053380784\n"
     ]
    },
    {
     "name": "stderr",
     "output_type": "stream",
     "text": [
      "[I 2024-11-19 15:02:21,933] Trial 17 finished with value: 95.08896797153025 and parameters: {'h': 110, 'alpha': 0.0006008739600062915, 'iterations': 5000}. Best is trial 11 with value: 97.40213523131672.\n"
     ]
    },
    {
     "name": "stdout",
     "output_type": "stream",
     "text": [
      "Accuracy on Test Data: 95.09%\n",
      "Iteration: 0\n",
      "Accuracy: 7.224199288256228\n",
      "Iteration: 2000\n",
      "Accuracy: 90.4626334519573\n",
      "Iteration: 4000\n",
      "Accuracy: 93.66548042704626\n",
      "Iteration: 6000\n",
      "Accuracy: 95.37366548042705\n"
     ]
    },
    {
     "name": "stderr",
     "output_type": "stream",
     "text": [
      "[I 2024-11-19 15:03:34,450] Trial 18 finished with value: 93.62989323843416 and parameters: {'h': 150, 'alpha': 0.00019414959168122353, 'iterations': 8000}. Best is trial 11 with value: 97.40213523131672.\n"
     ]
    },
    {
     "name": "stdout",
     "output_type": "stream",
     "text": [
      "Accuracy on Test Data: 93.63%\n",
      "Iteration: 0\n",
      "Accuracy: 4.590747330960855\n",
      "Iteration: 2000\n",
      "Accuracy: 98.96797153024912\n",
      "Iteration: 4000\n",
      "Accuracy: 99.50177935943061\n"
     ]
    },
    {
     "name": "stderr",
     "output_type": "stream",
     "text": [
      "[I 2024-11-19 15:04:30,019] Trial 19 finished with value: 97.15302491103202 and parameters: {'h': 200, 'alpha': 0.004347380789084764, 'iterations': 6000}. Best is trial 11 with value: 97.40213523131672.\n"
     ]
    },
    {
     "name": "stdout",
     "output_type": "stream",
     "text": [
      "Accuracy on Test Data: 97.15%\n",
      "Iteration: 0\n",
      "Accuracy: 12.846975088967971\n"
     ]
    },
    {
     "name": "stderr",
     "output_type": "stream",
     "text": [
      "[I 2024-11-19 15:04:40,876] Trial 20 finished with value: 53.879003558718864 and parameters: {'h': 70, 'alpha': 4.6401303461095084e-05, 'iterations': 1000}. Best is trial 11 with value: 97.40213523131672.\n"
     ]
    },
    {
     "name": "stdout",
     "output_type": "stream",
     "text": [
      "Accuracy on Test Data: 53.88%\n",
      "Iteration: 0\n",
      "Accuracy: 8.825622775800712\n",
      "Iteration: 2000\n",
      "Accuracy: 99.7153024911032\n",
      "Iteration: 4000\n",
      "Accuracy: 99.92882562277579\n",
      "Iteration: 6000\n",
      "Accuracy: 99.9644128113879\n"
     ]
    },
    {
     "name": "stderr",
     "output_type": "stream",
     "text": [
      "[I 2024-11-19 15:05:50,945] Trial 21 finished with value: 97.36654804270462 and parameters: {'h': 130, 'alpha': 0.008885251044677706, 'iterations': 6500}. Best is trial 11 with value: 97.40213523131672.\n"
     ]
    },
    {
     "name": "stdout",
     "output_type": "stream",
     "text": [
      "Accuracy on Test Data: 97.37%\n",
      "Iteration: 0\n",
      "Accuracy: 11.886120996441282\n",
      "Iteration: 2000\n",
      "Accuracy: 99.03914590747331\n",
      "Iteration: 4000\n",
      "Accuracy: 99.53736654804271\n",
      "Iteration: 6000\n",
      "Accuracy: 99.7508896797153\n"
     ]
    },
    {
     "name": "stderr",
     "output_type": "stream",
     "text": [
      "[I 2024-11-19 15:07:04,247] Trial 22 finished with value: 96.97508896797153 and parameters: {'h': 120, 'alpha': 0.003832137277091804, 'iterations': 8000}. Best is trial 11 with value: 97.40213523131672.\n"
     ]
    },
    {
     "name": "stdout",
     "output_type": "stream",
     "text": [
      "Accuracy on Test Data: 96.98%\n",
      "Iteration: 0\n",
      "Accuracy: 2.5622775800711746\n",
      "Iteration: 2000\n",
      "Accuracy: 99.644128113879\n",
      "Iteration: 4000\n",
      "Accuracy: 99.8932384341637\n"
     ]
    },
    {
     "name": "stderr",
     "output_type": "stream",
     "text": [
      "[I 2024-11-19 15:07:58,835] Trial 23 finished with value: 97.25978647686833 and parameters: {'h': 150, 'alpha': 0.009989764525817473, 'iterations': 6000}. Best is trial 11 with value: 97.40213523131672.\n"
     ]
    },
    {
     "name": "stdout",
     "output_type": "stream",
     "text": [
      "Accuracy on Test Data: 97.26%\n",
      "Iteration: 0\n",
      "Accuracy: 11.957295373665481\n",
      "Iteration: 2000\n",
      "Accuracy: 99.11032028469751\n",
      "Iteration: 4000\n",
      "Accuracy: 99.60854092526691\n"
     ]
    },
    {
     "name": "stderr",
     "output_type": "stream",
     "text": [
      "[I 2024-11-19 15:08:40,572] Trial 24 finished with value: 96.58362989323844 and parameters: {'h': 130, 'alpha': 0.0051633955506730726, 'iterations': 4500}. Best is trial 11 with value: 97.40213523131672.\n"
     ]
    },
    {
     "name": "stdout",
     "output_type": "stream",
     "text": [
      "Accuracy on Test Data: 96.58%\n",
      "Iteration: 0\n",
      "Accuracy: 10.99644128113879\n",
      "Iteration: 2000\n",
      "Accuracy: 97.22419928825623\n",
      "Iteration: 4000\n",
      "Accuracy: 98.25622775800711\n",
      "Iteration: 6000\n",
      "Accuracy: 98.86120996441281\n"
     ]
    },
    {
     "name": "stderr",
     "output_type": "stream",
     "text": [
      "[I 2024-11-19 15:09:54,356] Trial 25 finished with value: 95.72953736654804 and parameters: {'h': 110, 'alpha': 0.0010930294302145338, 'iterations': 8000}. Best is trial 11 with value: 97.40213523131672.\n"
     ]
    },
    {
     "name": "stdout",
     "output_type": "stream",
     "text": [
      "Accuracy on Test Data: 95.73%\n",
      "Iteration: 0\n",
      "Accuracy: 9.9288256227758\n",
      "Iteration: 2000\n",
      "Accuracy: 98.79003558718861\n",
      "Iteration: 4000\n",
      "Accuracy: 99.28825622775801\n"
     ]
    },
    {
     "name": "stderr",
     "output_type": "stream",
     "text": [
      "[I 2024-11-19 15:10:49,269] Trial 26 finished with value: 96.47686832740213 and parameters: {'h': 140, 'alpha': 0.0026320510819347527, 'iterations': 6000}. Best is trial 11 with value: 97.40213523131672.\n"
     ]
    },
    {
     "name": "stdout",
     "output_type": "stream",
     "text": [
      "Accuracy on Test Data: 96.48%\n",
      "Iteration: 0\n",
      "Accuracy: 14.875444839857652\n",
      "Iteration: 2000\n",
      "Accuracy: 98.93238434163702\n",
      "Iteration: 4000\n",
      "Accuracy: 99.5729537366548\n",
      "Iteration: 6000\n",
      "Accuracy: 99.8220640569395\n"
     ]
    },
    {
     "name": "stderr",
     "output_type": "stream",
     "text": [
      "[I 2024-11-19 15:11:48,078] Trial 27 finished with value: 96.83274021352312 and parameters: {'h': 170, 'alpha': 0.005506521491798108, 'iterations': 6500}. Best is trial 11 with value: 97.40213523131672.\n"
     ]
    },
    {
     "name": "stdout",
     "output_type": "stream",
     "text": [
      "Accuracy on Test Data: 96.83%\n",
      "Iteration: 0\n",
      "Accuracy: 9.786476868327403\n",
      "Iteration: 2000\n",
      "Accuracy: 97.86476868327402\n",
      "Iteration: 4000\n",
      "Accuracy: 98.93238434163702\n"
     ]
    },
    {
     "name": "stderr",
     "output_type": "stream",
     "text": [
      "[I 2024-11-19 15:12:33,884] Trial 28 finished with value: 95.97864768683274 and parameters: {'h': 110, 'alpha': 0.002099277263501836, 'iterations': 5000}. Best is trial 11 with value: 97.40213523131672.\n"
     ]
    },
    {
     "name": "stdout",
     "output_type": "stream",
     "text": [
      "Accuracy on Test Data: 95.98%\n",
      "Iteration: 0\n",
      "Accuracy: 6.120996441281139\n",
      "Iteration: 2000\n",
      "Accuracy: 98.6476868327402\n",
      "Iteration: 4000\n",
      "Accuracy: 99.1814946619217\n",
      "Iteration: 6000\n",
      "Accuracy: 99.50177935943061\n"
     ]
    },
    {
     "name": "stderr",
     "output_type": "stream",
     "text": [
      "[I 2024-11-19 15:13:41,152] Trial 29 finished with value: 96.72597864768683 and parameters: {'h': 80, 'alpha': 0.002615226673351656, 'iterations': 7500}. Best is trial 11 with value: 97.40213523131672.\n"
     ]
    },
    {
     "name": "stdout",
     "output_type": "stream",
     "text": [
      "Accuracy on Test Data: 96.73%\n",
      "Iteration: 0\n",
      "Accuracy: 8.14946619217082\n",
      "Iteration: 2000\n",
      "Accuracy: 99.6797153024911\n",
      "Iteration: 4000\n",
      "Accuracy: 99.85765124555161\n",
      "Iteration: 6000\n",
      "Accuracy: 99.9644128113879\n",
      "Iteration: 8000\n",
      "Accuracy: 99.9644128113879\n"
     ]
    },
    {
     "name": "stderr",
     "output_type": "stream",
     "text": [
      "[I 2024-11-19 15:15:12,587] Trial 30 finished with value: 97.36654804270462 and parameters: {'h': 160, 'alpha': 0.007518434659678989, 'iterations': 10000}. Best is trial 11 with value: 97.40213523131672.\n"
     ]
    },
    {
     "name": "stdout",
     "output_type": "stream",
     "text": [
      "Accuracy on Test Data: 97.37%\n",
      "Iteration: 0\n",
      "Accuracy: 8.042704626334519\n",
      "Iteration: 2000\n",
      "Accuracy: 99.53736654804271\n",
      "Iteration: 4000\n",
      "Accuracy: 99.7864768683274\n",
      "Iteration: 6000\n",
      "Accuracy: 99.9644128113879\n",
      "Iteration: 8000\n",
      "Accuracy: 99.9644128113879\n"
     ]
    },
    {
     "name": "stderr",
     "output_type": "stream",
     "text": [
      "[I 2024-11-19 15:16:44,751] Trial 31 finished with value: 97.33096085409252 and parameters: {'h': 140, 'alpha': 0.007430124537566393, 'iterations': 10000}. Best is trial 11 with value: 97.40213523131672.\n"
     ]
    },
    {
     "name": "stdout",
     "output_type": "stream",
     "text": [
      "Accuracy on Test Data: 97.33%\n",
      "Iteration: 0\n",
      "Accuracy: 10.142348754448399\n",
      "Iteration: 2000\n",
      "Accuracy: 99.07473309608541\n",
      "Iteration: 4000\n",
      "Accuracy: 99.53736654804271\n",
      "Iteration: 6000\n",
      "Accuracy: 99.6797153024911\n",
      "Iteration: 8000\n",
      "Accuracy: 99.8220640569395\n"
     ]
    },
    {
     "name": "stderr",
     "output_type": "stream",
     "text": [
      "[I 2024-11-19 15:18:06,904] Trial 32 finished with value: 96.47686832740213 and parameters: {'h': 160, 'alpha': 0.003727511926039935, 'iterations': 9000}. Best is trial 11 with value: 97.40213523131672.\n"
     ]
    },
    {
     "name": "stdout",
     "output_type": "stream",
     "text": [
      "Accuracy on Test Data: 96.48%\n",
      "Iteration: 0\n",
      "Accuracy: 3.594306049822064\n",
      "Iteration: 2000\n",
      "Accuracy: 99.32384341637011\n",
      "Iteration: 4000\n",
      "Accuracy: 99.644128113879\n",
      "Iteration: 6000\n",
      "Accuracy: 99.85765124555161\n",
      "Iteration: 8000\n",
      "Accuracy: 99.8932384341637\n"
     ]
    },
    {
     "name": "stderr",
     "output_type": "stream",
     "text": [
      "[I 2024-11-19 15:19:24,678] Trial 33 finished with value: 97.11743772241994 and parameters: {'h': 140, 'alpha': 0.00539709555922601, 'iterations': 8500}. Best is trial 11 with value: 97.40213523131672.\n"
     ]
    },
    {
     "name": "stdout",
     "output_type": "stream",
     "text": [
      "Accuracy on Test Data: 97.12%\n",
      "Iteration: 0\n",
      "Accuracy: 14.839857651245552\n",
      "Iteration: 2000\n",
      "Accuracy: 98.79003558718861\n",
      "Iteration: 4000\n",
      "Accuracy: 99.35943060498221\n"
     ]
    },
    {
     "name": "stderr",
     "output_type": "stream",
     "text": [
      "[I 2024-11-19 15:20:10,224] Trial 34 finished with value: 96.76156583629893 and parameters: {'h': 160, 'alpha': 0.003603378333532735, 'iterations': 5000}. Best is trial 11 with value: 97.40213523131672.\n"
     ]
    },
    {
     "name": "stdout",
     "output_type": "stream",
     "text": [
      "Accuracy on Test Data: 96.76%\n",
      "Iteration: 0\n",
      "Accuracy: 12.95373665480427\n",
      "Iteration: 2000\n",
      "Accuracy: 99.50177935943061\n"
     ]
    },
    {
     "name": "stderr",
     "output_type": "stream",
     "text": [
      "[I 2024-11-19 15:20:41,676] Trial 35 finished with value: 96.79715302491103 and parameters: {'h': 180, 'alpha': 0.007039552159811994, 'iterations': 3500}. Best is trial 11 with value: 97.40213523131672.\n"
     ]
    },
    {
     "name": "stdout",
     "output_type": "stream",
     "text": [
      "Accuracy on Test Data: 96.80%\n",
      "Iteration: 0\n",
      "Accuracy: 12.811387900355871\n",
      "Iteration: 2000\n",
      "Accuracy: 94.37722419928825\n",
      "Iteration: 4000\n",
      "Accuracy: 96.12099644128114\n",
      "Iteration: 6000\n",
      "Accuracy: 96.90391459074733\n",
      "Iteration: 8000\n",
      "Accuracy: 97.47330960854093\n"
     ]
    },
    {
     "name": "stderr",
     "output_type": "stream",
     "text": [
      "[I 2024-11-19 15:22:12,475] Trial 36 finished with value: 95.51601423487544 and parameters: {'h': 120, 'alpha': 0.0003344904522362393, 'iterations': 10000}. Best is trial 11 with value: 97.40213523131672.\n"
     ]
    },
    {
     "name": "stdout",
     "output_type": "stream",
     "text": [
      "Accuracy on Test Data: 95.52%\n",
      "Iteration: 0\n",
      "Accuracy: 17.04626334519573\n",
      "Iteration: 2000\n",
      "Accuracy: 99.35943060498221\n",
      "Iteration: 4000\n",
      "Accuracy: 99.7864768683274\n",
      "Iteration: 6000\n",
      "Accuracy: 99.9644128113879\n"
     ]
    },
    {
     "name": "stderr",
     "output_type": "stream",
     "text": [
      "[I 2024-11-19 15:23:11,050] Trial 37 finished with value: 97.22419928825623 and parameters: {'h': 150, 'alpha': 0.006315226507847724, 'iterations': 6500}. Best is trial 11 with value: 97.40213523131672.\n"
     ]
    },
    {
     "name": "stdout",
     "output_type": "stream",
     "text": [
      "Accuracy on Test Data: 97.22%\n",
      "Iteration: 0\n",
      "Accuracy: 9.750889679715302\n",
      "Iteration: 2000\n",
      "Accuracy: 98.14946619217082\n",
      "Iteration: 4000\n",
      "Accuracy: 98.82562277580071\n",
      "Iteration: 6000\n",
      "Accuracy: 99.2170818505338\n",
      "Iteration: 8000\n",
      "Accuracy: 99.32384341637011\n"
     ]
    },
    {
     "name": "stderr",
     "output_type": "stream",
     "text": [
      "[I 2024-11-19 15:24:36,838] Trial 38 finished with value: 96.69039145907473 and parameters: {'h': 100, 'alpha': 0.0017372630877838878, 'iterations': 9500}. Best is trial 11 with value: 97.40213523131672.\n"
     ]
    },
    {
     "name": "stdout",
     "output_type": "stream",
     "text": [
      "Accuracy on Test Data: 96.69%\n",
      "Iteration: 0\n",
      "Accuracy: 8.398576512455517\n",
      "Iteration: 2000\n",
      "Accuracy: 99.644128113879\n"
     ]
    },
    {
     "name": "stderr",
     "output_type": "stream",
     "text": [
      "[I 2024-11-19 15:25:12,887] Trial 39 finished with value: 97.25978647686833 and parameters: {'h': 130, 'alpha': 0.009749130417204306, 'iterations': 4000}. Best is trial 11 with value: 97.40213523131672.\n"
     ]
    },
    {
     "name": "stdout",
     "output_type": "stream",
     "text": [
      "Accuracy on Test Data: 97.26%\n",
      "Iteration: 0\n",
      "Accuracy: 9.537366548042705\n",
      "Iteration: 2000\n",
      "Accuracy: 98.86120996441281\n",
      "Iteration: 4000\n",
      "Accuracy: 99.53736654804271\n"
     ]
    },
    {
     "name": "stderr",
     "output_type": "stream",
     "text": [
      "[I 2024-11-19 15:26:02,214] Trial 40 finished with value: 96.54804270462634 and parameters: {'h': 170, 'alpha': 0.0034918718857587933, 'iterations': 5500}. Best is trial 11 with value: 97.40213523131672.\n"
     ]
    },
    {
     "name": "stdout",
     "output_type": "stream",
     "text": [
      "Accuracy on Test Data: 96.55%\n",
      "Iteration: 0\n",
      "Accuracy: 14.23487544483986\n",
      "Iteration: 2000\n",
      "Accuracy: 99.50177935943061\n",
      "Iteration: 4000\n",
      "Accuracy: 99.8220640569395\n",
      "Iteration: 6000\n",
      "Accuracy: 99.8932384341637\n",
      "Iteration: 8000\n",
      "Accuracy: 99.92882562277579\n"
     ]
    },
    {
     "name": "stderr",
     "output_type": "stream",
     "text": [
      "[I 2024-11-19 15:27:33,577] Trial 41 finished with value: 96.97508896797153 and parameters: {'h': 140, 'alpha': 0.006408540106674318, 'iterations': 10000}. Best is trial 11 with value: 97.40213523131672.\n"
     ]
    },
    {
     "name": "stdout",
     "output_type": "stream",
     "text": [
      "Accuracy on Test Data: 96.98%\n",
      "Iteration: 0\n",
      "Accuracy: 14.270462633451958\n",
      "Iteration: 2000\n",
      "Accuracy: 99.3950177935943\n",
      "Iteration: 4000\n",
      "Accuracy: 99.7508896797153\n",
      "Iteration: 6000\n",
      "Accuracy: 99.85765124555161\n",
      "Iteration: 8000\n",
      "Accuracy: 99.92882562277579\n"
     ]
    },
    {
     "name": "stderr",
     "output_type": "stream",
     "text": [
      "[I 2024-11-19 15:29:03,685] Trial 42 finished with value: 97.29537366548043 and parameters: {'h': 140, 'alpha': 0.006666665291348337, 'iterations': 9500}. Best is trial 11 with value: 97.40213523131672.\n"
     ]
    },
    {
     "name": "stdout",
     "output_type": "stream",
     "text": [
      "Accuracy on Test Data: 97.30%\n",
      "Iteration: 0\n",
      "Accuracy: 10.0355871886121\n",
      "Iteration: 2000\n",
      "Accuracy: 19.9288256227758\n",
      "Iteration: 4000\n",
      "Accuracy: 40.2491103202847\n",
      "Iteration: 6000\n",
      "Accuracy: 55.871886120996436\n",
      "Iteration: 8000\n",
      "Accuracy: 65.87188612099644\n"
     ]
    },
    {
     "name": "stderr",
     "output_type": "stream",
     "text": [
      "[I 2024-11-19 15:30:27,419] Trial 43 finished with value: 65.76512455516014 and parameters: {'h': 50, 'alpha': 1.0505912836131122e-05, 'iterations': 9000}. Best is trial 11 with value: 97.40213523131672.\n"
     ]
    },
    {
     "name": "stdout",
     "output_type": "stream",
     "text": [
      "Accuracy on Test Data: 65.77%\n",
      "Iteration: 0\n",
      "Accuracy: 10.747330960854093\n",
      "Iteration: 2000\n",
      "Accuracy: 99.4306049822064\n",
      "Iteration: 4000\n",
      "Accuracy: 99.7508896797153\n",
      "Iteration: 6000\n",
      "Accuracy: 99.8932384341637\n",
      "Iteration: 8000\n",
      "Accuracy: 99.92882562277579\n"
     ]
    },
    {
     "name": "stderr",
     "output_type": "stream",
     "text": [
      "[I 2024-11-19 15:31:44,798] Trial 44 finished with value: 97.18861209964412 and parameters: {'h': 150, 'alpha': 0.007822291675244633, 'iterations': 8500}. Best is trial 11 with value: 97.40213523131672.\n"
     ]
    },
    {
     "name": "stdout",
     "output_type": "stream",
     "text": [
      "Accuracy on Test Data: 97.19%\n",
      "Iteration: 0\n",
      "Accuracy: 7.153024911032029\n",
      "Iteration: 2000\n",
      "Accuracy: 98.79003558718861\n",
      "Iteration: 4000\n",
      "Accuracy: 99.4306049822064\n",
      "Iteration: 6000\n",
      "Accuracy: 99.6797153024911\n"
     ]
    },
    {
     "name": "stderr",
     "output_type": "stream",
     "text": [
      "[I 2024-11-19 15:32:55,496] Trial 45 finished with value: 96.79715302491103 and parameters: {'h': 120, 'alpha': 0.0030702426387229204, 'iterations': 7500}. Best is trial 11 with value: 97.40213523131672.\n"
     ]
    },
    {
     "name": "stdout",
     "output_type": "stream",
     "text": [
      "Accuracy on Test Data: 96.80%\n",
      "Iteration: 0\n",
      "Accuracy: 8.256227758007118\n",
      "Iteration: 2000\n",
      "Accuracy: 99.1814946619217\n",
      "Iteration: 4000\n",
      "Accuracy: 99.5729537366548\n",
      "Iteration: 6000\n",
      "Accuracy: 99.7508896797153\n",
      "Iteration: 8000\n",
      "Accuracy: 99.85765124555161\n"
     ]
    },
    {
     "name": "stderr",
     "output_type": "stream",
     "text": [
      "[I 2024-11-19 15:34:28,349] Trial 46 finished with value: 97.11743772241994 and parameters: {'h': 130, 'alpha': 0.004780006355259908, 'iterations': 10000}. Best is trial 11 with value: 97.40213523131672.\n"
     ]
    },
    {
     "name": "stdout",
     "output_type": "stream",
     "text": [
      "Accuracy on Test Data: 97.12%\n",
      "Iteration: 0\n",
      "Accuracy: 8.291814946619217\n",
      "Iteration: 2000\n",
      "Accuracy: 97.61565836298932\n",
      "Iteration: 4000\n",
      "Accuracy: 98.50533807829181\n",
      "Iteration: 6000\n",
      "Accuracy: 99.14590747330962\n"
     ]
    },
    {
     "name": "stderr",
     "output_type": "stream",
     "text": [
      "[I 2024-11-19 15:35:28,214] Trial 47 finished with value: 95.87188612099644 and parameters: {'h': 160, 'alpha': 0.0018468799667464477, 'iterations': 6500}. Best is trial 11 with value: 97.40213523131672.\n"
     ]
    },
    {
     "name": "stdout",
     "output_type": "stream",
     "text": [
      "Accuracy on Test Data: 95.87%\n",
      "Iteration: 0\n",
      "Accuracy: 5.622775800711743\n",
      "Iteration: 2000\n",
      "Accuracy: 99.4661921708185\n",
      "Iteration: 4000\n",
      "Accuracy: 99.8932384341637\n",
      "Iteration: 6000\n",
      "Accuracy: 99.9644128113879\n",
      "Iteration: 8000\n",
      "Accuracy: 99.9644128113879\n"
     ]
    },
    {
     "name": "stderr",
     "output_type": "stream",
     "text": [
      "[I 2024-11-19 15:36:55,959] Trial 48 finished with value: 97.33096085409252 and parameters: {'h': 180, 'alpha': 0.007630935045326333, 'iterations': 9500}. Best is trial 11 with value: 97.40213523131672.\n"
     ]
    },
    {
     "name": "stdout",
     "output_type": "stream",
     "text": [
      "Accuracy on Test Data: 97.33%\n",
      "Iteration: 0\n",
      "Accuracy: 10.0\n",
      "Iteration: 2000\n",
      "Accuracy: 95.44483985765125\n",
      "Iteration: 4000\n",
      "Accuracy: 97.04626334519573\n",
      "Iteration: 6000\n",
      "Accuracy: 98.07829181494661\n"
     ]
    },
    {
     "name": "stderr",
     "output_type": "stream",
     "text": [
      "[I 2024-11-19 15:38:04,256] Trial 49 finished with value: 95.30249110320284 and parameters: {'h': 110, 'alpha': 0.0006049825605107965, 'iterations': 7500}. Best is trial 11 with value: 97.40213523131672.\n"
     ]
    },
    {
     "name": "stdout",
     "output_type": "stream",
     "text": [
      "Accuracy on Test Data: 95.30%\n",
      "Iteration: 0\n",
      "Accuracy: 10.0711743772242\n",
      "Iteration: 2000\n",
      "Accuracy: 97.61565836298932\n",
      "Iteration: 4000\n",
      "Accuracy: 98.50533807829181\n",
      "Iteration: 6000\n",
      "Accuracy: 99.07473309608541\n",
      "Iteration: 8000\n",
      "Accuracy: 99.32384341637011\n"
     ]
    },
    {
     "name": "stderr",
     "output_type": "stream",
     "text": [
      "[I 2024-11-19 15:39:22,397] Trial 50 finished with value: 96.51245551601424 and parameters: {'h': 90, 'alpha': 0.0012848417452488946, 'iterations': 8500}. Best is trial 11 with value: 97.40213523131672.\n"
     ]
    },
    {
     "name": "stdout",
     "output_type": "stream",
     "text": [
      "Accuracy on Test Data: 96.51%\n",
      "Iteration: 0\n",
      "Accuracy: 11.174377224199288\n",
      "Iteration: 2000\n",
      "Accuracy: 99.644128113879\n",
      "Iteration: 4000\n",
      "Accuracy: 99.7864768683274\n",
      "Iteration: 6000\n",
      "Accuracy: 99.8932384341637\n",
      "Iteration: 8000\n",
      "Accuracy: 99.92882562277579\n"
     ]
    },
    {
     "name": "stderr",
     "output_type": "stream",
     "text": [
      "[I 2024-11-19 15:40:50,990] Trial 51 finished with value: 97.11743772241994 and parameters: {'h': 180, 'alpha': 0.007963013628393202, 'iterations': 9500}. Best is trial 11 with value: 97.40213523131672.\n"
     ]
    },
    {
     "name": "stdout",
     "output_type": "stream",
     "text": [
      "Accuracy on Test Data: 97.12%\n",
      "Iteration: 0\n",
      "Accuracy: 9.715302491103204\n",
      "Iteration: 2000\n",
      "Accuracy: 99.5729537366548\n",
      "Iteration: 4000\n",
      "Accuracy: 99.85765124555161\n",
      "Iteration: 6000\n",
      "Accuracy: 99.92882562277579\n",
      "Iteration: 8000\n",
      "Accuracy: 99.9644128113879\n"
     ]
    },
    {
     "name": "stderr",
     "output_type": "stream",
     "text": [
      "[I 2024-11-19 15:42:17,339] Trial 52 finished with value: 97.47330960854093 and parameters: {'h': 190, 'alpha': 0.00914370281673089, 'iterations': 9500}. Best is trial 52 with value: 97.47330960854093.\n"
     ]
    },
    {
     "name": "stdout",
     "output_type": "stream",
     "text": [
      "Accuracy on Test Data: 97.47%\n",
      "Iteration: 0\n",
      "Accuracy: 7.900355871886121\n",
      "Iteration: 2000\n",
      "Accuracy: 99.644128113879\n",
      "Iteration: 4000\n",
      "Accuracy: 99.8220640569395\n",
      "Iteration: 6000\n",
      "Accuracy: 99.9644128113879\n",
      "Iteration: 8000\n",
      "Accuracy: 99.9644128113879\n"
     ]
    },
    {
     "name": "stderr",
     "output_type": "stream",
     "text": [
      "[I 2024-11-19 15:43:47,338] Trial 53 finished with value: 97.29537366548043 and parameters: {'h': 190, 'alpha': 0.00997201783786436, 'iterations': 10000}. Best is trial 52 with value: 97.47330960854093.\n"
     ]
    },
    {
     "name": "stdout",
     "output_type": "stream",
     "text": [
      "Accuracy on Test Data: 97.30%\n",
      "Iteration: 0\n",
      "Accuracy: 4.0213523131672595\n",
      "Iteration: 2000\n",
      "Accuracy: 99.2526690391459\n",
      "Iteration: 4000\n",
      "Accuracy: 99.5729537366548\n",
      "Iteration: 6000\n",
      "Accuracy: 99.7864768683274\n",
      "Iteration: 8000\n",
      "Accuracy: 99.85765124555161\n"
     ]
    },
    {
     "name": "stderr",
     "output_type": "stream",
     "text": [
      "[I 2024-11-19 15:45:05,341] Trial 54 finished with value: 97.04626334519573 and parameters: {'h': 190, 'alpha': 0.004725915346623393, 'iterations': 8500}. Best is trial 52 with value: 97.47330960854093.\n"
     ]
    },
    {
     "name": "stdout",
     "output_type": "stream",
     "text": [
      "Accuracy on Test Data: 97.05%\n",
      "Iteration: 0\n",
      "Accuracy: 2.099644128113879\n",
      "Iteration: 2000\n",
      "Accuracy: 76.15658362989323\n",
      "Iteration: 4000\n",
      "Accuracy: 86.47686832740213\n"
     ]
    },
    {
     "name": "stderr",
     "output_type": "stream",
     "text": [
      "[I 2024-11-19 15:45:56,704] Trial 55 finished with value: 86.26334519572953 and parameters: {'h': 200, 'alpha': 5.3641292718839155e-05, 'iterations': 5500}. Best is trial 52 with value: 97.47330960854093.\n"
     ]
    },
    {
     "name": "stdout",
     "output_type": "stream",
     "text": [
      "Accuracy on Test Data: 86.26%\n",
      "Iteration: 0\n",
      "Accuracy: 17.330960854092528\n",
      "Iteration: 2000\n",
      "Accuracy: 89.8220640569395\n",
      "Iteration: 4000\n",
      "Accuracy: 93.77224199288257\n",
      "Iteration: 6000\n",
      "Accuracy: 95.44483985765125\n",
      "Iteration: 8000\n",
      "Accuracy: 96.19217081850535\n"
     ]
    },
    {
     "name": "stderr",
     "output_type": "stream",
     "text": [
      "[I 2024-11-19 15:47:19,769] Trial 56 finished with value: 94.30604982206405 and parameters: {'h': 140, 'alpha': 0.0001923836342267627, 'iterations': 9000}. Best is trial 52 with value: 97.47330960854093.\n"
     ]
    },
    {
     "name": "stdout",
     "output_type": "stream",
     "text": [
      "Accuracy on Test Data: 94.31%\n",
      "Iteration: 0\n",
      "Accuracy: 7.722419928825623\n",
      "Iteration: 2000\n",
      "Accuracy: 98.8967971530249\n",
      "Iteration: 4000\n",
      "Accuracy: 99.60854092526691\n"
     ]
    },
    {
     "name": "stderr",
     "output_type": "stream",
     "text": [
      "[I 2024-11-19 15:48:15,029] Trial 57 finished with value: 96.76156583629893 and parameters: {'h': 130, 'alpha': 0.004702137300755286, 'iterations': 6000}. Best is trial 52 with value: 97.47330960854093.\n"
     ]
    },
    {
     "name": "stdout",
     "output_type": "stream",
     "text": [
      "Accuracy on Test Data: 96.76%\n",
      "Iteration: 0\n",
      "Accuracy: 5.800711743772242\n",
      "Iteration: 2000\n",
      "Accuracy: 99.35943060498221\n",
      "Iteration: 4000\n",
      "Accuracy: 99.7864768683274\n",
      "Iteration: 6000\n",
      "Accuracy: 99.8220640569395\n"
     ]
    },
    {
     "name": "stderr",
     "output_type": "stream",
     "text": [
      "[I 2024-11-19 15:49:18,130] Trial 58 finished with value: 96.93950177935943 and parameters: {'h': 150, 'alpha': 0.005853952306794078, 'iterations': 7000}. Best is trial 52 with value: 97.47330960854093.\n"
     ]
    },
    {
     "name": "stdout",
     "output_type": "stream",
     "text": [
      "Accuracy on Test Data: 96.94%\n",
      "Iteration: 0\n",
      "Accuracy: 3.879003558718861\n",
      "Iteration: 2000\n",
      "Accuracy: 99.7153024911032\n",
      "Iteration: 4000\n",
      "Accuracy: 99.92882562277579\n",
      "Iteration: 6000\n",
      "Accuracy: 99.92882562277579\n",
      "Iteration: 8000\n",
      "Accuracy: 99.9644128113879\n"
     ]
    },
    {
     "name": "stderr",
     "output_type": "stream",
     "text": [
      "[I 2024-11-19 15:50:54,283] Trial 59 finished with value: 97.36654804270462 and parameters: {'h': 120, 'alpha': 0.008481552639004887, 'iterations': 10000}. Best is trial 52 with value: 97.47330960854093.\n"
     ]
    },
    {
     "name": "stdout",
     "output_type": "stream",
     "text": [
      "Accuracy on Test Data: 97.37%\n",
      "Iteration: 0\n",
      "Accuracy: 7.04626334519573\n",
      "Iteration: 2000\n",
      "Accuracy: 98.6476868327402\n",
      "Iteration: 4000\n",
      "Accuracy: 99.2526690391459\n"
     ]
    },
    {
     "name": "stderr",
     "output_type": "stream",
     "text": [
      "[I 2024-11-19 15:51:35,430] Trial 60 finished with value: 96.69039145907473 and parameters: {'h': 120, 'alpha': 0.0026309440956490773, 'iterations': 4500}. Best is trial 52 with value: 97.47330960854093.\n"
     ]
    },
    {
     "name": "stdout",
     "output_type": "stream",
     "text": [
      "Accuracy on Test Data: 96.69%\n",
      "Iteration: 0\n",
      "Accuracy: 8.434163701067614\n",
      "Iteration: 2000\n",
      "Accuracy: 99.50177935943061\n",
      "Iteration: 4000\n",
      "Accuracy: 99.85765124555161\n",
      "Iteration: 6000\n",
      "Accuracy: 99.92882562277579\n",
      "Iteration: 8000\n",
      "Accuracy: 99.9644128113879\n"
     ]
    },
    {
     "name": "stderr",
     "output_type": "stream",
     "text": [
      "[I 2024-11-19 15:53:02,057] Trial 61 finished with value: 97.33096085409252 and parameters: {'h': 110, 'alpha': 0.008415242879454825, 'iterations': 9500}. Best is trial 52 with value: 97.47330960854093.\n"
     ]
    },
    {
     "name": "stdout",
     "output_type": "stream",
     "text": [
      "Accuracy on Test Data: 97.33%\n",
      "Iteration: 0\n",
      "Accuracy: 8.256227758007118\n",
      "Iteration: 2000\n",
      "Accuracy: 99.7153024911032\n",
      "Iteration: 4000\n",
      "Accuracy: 99.9644128113879\n",
      "Iteration: 6000\n",
      "Accuracy: 99.9644128113879\n",
      "Iteration: 8000\n",
      "Accuracy: 99.9644128113879\n"
     ]
    },
    {
     "name": "stderr",
     "output_type": "stream",
     "text": [
      "[I 2024-11-19 15:54:33,257] Trial 62 finished with value: 97.43772241992883 and parameters: {'h': 130, 'alpha': 0.009931801895160765, 'iterations': 10000}. Best is trial 52 with value: 97.47330960854093.\n"
     ]
    },
    {
     "name": "stdout",
     "output_type": "stream",
     "text": [
      "Accuracy on Test Data: 97.44%\n",
      "Iteration: 0\n",
      "Accuracy: 9.822064056939501\n",
      "Iteration: 2000\n",
      "Accuracy: 99.60854092526691\n",
      "Iteration: 4000\n",
      "Accuracy: 99.8932384341637\n",
      "Iteration: 6000\n",
      "Accuracy: 99.92882562277579\n",
      "Iteration: 8000\n",
      "Accuracy: 99.92882562277579\n"
     ]
    },
    {
     "name": "stderr",
     "output_type": "stream",
     "text": [
      "[I 2024-11-19 15:56:02,001] Trial 63 finished with value: 97.25978647686833 and parameters: {'h': 100, 'alpha': 0.00977719781089051, 'iterations': 9500}. Best is trial 52 with value: 97.47330960854093.\n"
     ]
    },
    {
     "name": "stdout",
     "output_type": "stream",
     "text": [
      "Accuracy on Test Data: 97.26%\n",
      "Iteration: 0\n",
      "Accuracy: 4.341637010676156\n",
      "Iteration: 2000\n",
      "Accuracy: 98.93238434163702\n",
      "Iteration: 4000\n",
      "Accuracy: 99.3950177935943\n",
      "Iteration: 6000\n",
      "Accuracy: 99.6797153024911\n",
      "Iteration: 8000\n",
      "Accuracy: 99.7153024911032\n"
     ]
    },
    {
     "name": "stderr",
     "output_type": "stream",
     "text": [
      "[I 2024-11-19 15:57:33,417] Trial 64 finished with value: 96.72597864768683 and parameters: {'h': 120, 'alpha': 0.004065353373116296, 'iterations': 10000}. Best is trial 52 with value: 97.47330960854093.\n"
     ]
    },
    {
     "name": "stdout",
     "output_type": "stream",
     "text": [
      "Accuracy on Test Data: 96.73%\n",
      "Iteration: 0\n",
      "Accuracy: 9.00355871886121\n",
      "Iteration: 2000\n",
      "Accuracy: 99.28825622775801\n",
      "Iteration: 4000\n",
      "Accuracy: 99.6797153024911\n",
      "Iteration: 6000\n",
      "Accuracy: 99.85765124555161\n",
      "Iteration: 8000\n",
      "Accuracy: 99.8932384341637\n"
     ]
    },
    {
     "name": "stderr",
     "output_type": "stream",
     "text": [
      "[I 2024-11-19 15:58:55,966] Trial 65 finished with value: 97.18861209964412 and parameters: {'h': 130, 'alpha': 0.0057529080499183, 'iterations': 9000}. Best is trial 52 with value: 97.47330960854093.\n"
     ]
    },
    {
     "name": "stdout",
     "output_type": "stream",
     "text": [
      "Accuracy on Test Data: 97.19%\n",
      "Iteration: 0\n",
      "Accuracy: 13.274021352313166\n",
      "Iteration: 2000\n",
      "Accuracy: 99.4661921708185\n",
      "Iteration: 4000\n",
      "Accuracy: 99.85765124555161\n",
      "Iteration: 6000\n",
      "Accuracy: 99.85765124555161\n"
     ]
    },
    {
     "name": "stderr",
     "output_type": "stream",
     "text": [
      "[I 2024-11-19 16:00:09,995] Trial 66 finished with value: 97.04626334519573 and parameters: {'h': 170, 'alpha': 0.007938710480559722, 'iterations': 8000}. Best is trial 52 with value: 97.47330960854093.\n"
     ]
    },
    {
     "name": "stdout",
     "output_type": "stream",
     "text": [
      "Accuracy on Test Data: 97.05%\n",
      "Iteration: 0\n",
      "Accuracy: 12.028469750889679\n",
      "Iteration: 2000\n",
      "Accuracy: 98.82562277580071\n",
      "Iteration: 4000\n",
      "Accuracy: 99.28825622775801\n",
      "Iteration: 6000\n",
      "Accuracy: 99.53736654804271\n"
     ]
    },
    {
     "name": "stderr",
     "output_type": "stream",
     "text": [
      "[I 2024-11-19 16:01:08,702] Trial 67 finished with value: 97.15302491103202 and parameters: {'h': 130, 'alpha': 0.0032743591916270264, 'iterations': 6500}. Best is trial 52 with value: 97.47330960854093.\n"
     ]
    },
    {
     "name": "stdout",
     "output_type": "stream",
     "text": [
      "Accuracy on Test Data: 97.15%\n",
      "Iteration: 0\n",
      "Accuracy: 14.341637010676155\n",
      "Iteration: 2000\n",
      "Accuracy: 99.28825622775801\n",
      "Iteration: 4000\n",
      "Accuracy: 99.7508896797153\n",
      "Iteration: 6000\n",
      "Accuracy: 99.8220640569395\n",
      "Iteration: 8000\n",
      "Accuracy: 99.85765124555161\n"
     ]
    },
    {
     "name": "stderr",
     "output_type": "stream",
     "text": [
      "[I 2024-11-19 16:02:39,054] Trial 68 finished with value: 97.11743772241994 and parameters: {'h': 120, 'alpha': 0.0062005976744259035, 'iterations': 10000}. Best is trial 52 with value: 97.47330960854093.\n"
     ]
    },
    {
     "name": "stdout",
     "output_type": "stream",
     "text": [
      "Accuracy on Test Data: 97.12%\n",
      "Iteration: 0\n",
      "Accuracy: 10.249110320284698\n",
      "Iteration: 2000\n",
      "Accuracy: 99.03914590747331\n",
      "Iteration: 4000\n",
      "Accuracy: 99.4661921708185\n",
      "Iteration: 6000\n",
      "Accuracy: 99.7864768683274\n",
      "Iteration: 8000\n",
      "Accuracy: 99.92882562277579\n"
     ]
    },
    {
     "name": "stderr",
     "output_type": "stream",
     "text": [
      "[I 2024-11-19 16:03:59,753] Trial 69 finished with value: 97.25978647686833 and parameters: {'h': 110, 'alpha': 0.004618937575796082, 'iterations': 9000}. Best is trial 52 with value: 97.47330960854093.\n"
     ]
    },
    {
     "name": "stdout",
     "output_type": "stream",
     "text": [
      "Accuracy on Test Data: 97.26%\n",
      "Iteration: 0\n",
      "Accuracy: 11.423487544483987\n",
      "Iteration: 2000\n",
      "Accuracy: 58.469750889679716\n",
      "Iteration: 4000\n",
      "Accuracy: 79.5017793594306\n",
      "Iteration: 6000\n",
      "Accuracy: 86.01423487544484\n"
     ]
    },
    {
     "name": "stderr",
     "output_type": "stream",
     "text": [
      "[I 2024-11-19 16:05:07,570] Trial 70 finished with value: 86.44128113879003 and parameters: {'h': 100, 'alpha': 2.9427415181096054e-05, 'iterations': 7500}. Best is trial 52 with value: 97.47330960854093.\n"
     ]
    },
    {
     "name": "stdout",
     "output_type": "stream",
     "text": [
      "Accuracy on Test Data: 86.44%\n",
      "Iteration: 0\n",
      "Accuracy: 9.145907473309608\n",
      "Iteration: 2000\n",
      "Accuracy: 99.644128113879\n",
      "Iteration: 4000\n",
      "Accuracy: 99.92882562277579\n",
      "Iteration: 6000\n",
      "Accuracy: 99.9644128113879\n",
      "Iteration: 8000\n",
      "Accuracy: 99.9644128113879\n"
     ]
    },
    {
     "name": "stderr",
     "output_type": "stream",
     "text": [
      "[I 2024-11-19 16:06:38,247] Trial 71 finished with value: 97.25978647686833 and parameters: {'h': 140, 'alpha': 0.00797098335574007, 'iterations': 10000}. Best is trial 52 with value: 97.47330960854093.\n"
     ]
    },
    {
     "name": "stdout",
     "output_type": "stream",
     "text": [
      "Accuracy on Test Data: 97.26%\n",
      "Iteration: 0\n",
      "Accuracy: 10.569395017793594\n",
      "Iteration: 2000\n",
      "Accuracy: 99.7508896797153\n",
      "Iteration: 4000\n",
      "Accuracy: 99.9644128113879\n",
      "Iteration: 6000\n",
      "Accuracy: 99.9644128113879\n",
      "Iteration: 8000\n",
      "Accuracy: 99.9644128113879\n"
     ]
    },
    {
     "name": "stderr",
     "output_type": "stream",
     "text": [
      "[I 2024-11-19 16:08:03,041] Trial 72 finished with value: 97.29537366548043 and parameters: {'h': 140, 'alpha': 0.00999666461382207, 'iterations': 9500}. Best is trial 52 with value: 97.47330960854093.\n"
     ]
    },
    {
     "name": "stdout",
     "output_type": "stream",
     "text": [
      "Accuracy on Test Data: 97.30%\n",
      "Iteration: 0\n",
      "Accuracy: 13.665480427046264\n",
      "Iteration: 2000\n",
      "Accuracy: 99.4306049822064\n",
      "Iteration: 4000\n",
      "Accuracy: 99.7153024911032\n",
      "Iteration: 6000\n",
      "Accuracy: 99.85765124555161\n",
      "Iteration: 8000\n",
      "Accuracy: 99.92882562277579\n"
     ]
    },
    {
     "name": "stderr",
     "output_type": "stream",
     "text": [
      "[I 2024-11-19 16:09:33,720] Trial 73 finished with value: 97.18861209964412 and parameters: {'h': 130, 'alpha': 0.006624519667470046, 'iterations': 10000}. Best is trial 52 with value: 97.47330960854093.\n"
     ]
    },
    {
     "name": "stdout",
     "output_type": "stream",
     "text": [
      "Accuracy on Test Data: 97.19%\n",
      "Iteration: 0\n",
      "Accuracy: 9.750889679715302\n",
      "Iteration: 2000\n",
      "Accuracy: 99.32384341637011\n",
      "Iteration: 4000\n",
      "Accuracy: 99.6797153024911\n",
      "Iteration: 6000\n",
      "Accuracy: 99.8220640569395\n",
      "Iteration: 8000\n",
      "Accuracy: 99.92882562277579\n"
     ]
    },
    {
     "name": "stderr",
     "output_type": "stream",
     "text": [
      "[I 2024-11-19 16:10:59,277] Trial 74 finished with value: 97.15302491103202 and parameters: {'h': 150, 'alpha': 0.005426765838073501, 'iterations': 9500}. Best is trial 52 with value: 97.47330960854093.\n"
     ]
    },
    {
     "name": "stdout",
     "output_type": "stream",
     "text": [
      "Accuracy on Test Data: 97.15%\n",
      "Iteration: 0\n",
      "Accuracy: 13.985765124555162\n",
      "Iteration: 2000\n",
      "Accuracy: 99.7153024911032\n",
      "Iteration: 4000\n",
      "Accuracy: 99.85765124555161\n"
     ]
    },
    {
     "name": "stderr",
     "output_type": "stream",
     "text": [
      "[I 2024-11-19 16:11:53,487] Trial 75 finished with value: 97.01067615658363 and parameters: {'h': 160, 'alpha': 0.008624408779345614, 'iterations': 6000}. Best is trial 52 with value: 97.47330960854093.\n"
     ]
    },
    {
     "name": "stdout",
     "output_type": "stream",
     "text": [
      "Accuracy on Test Data: 97.01%\n",
      "Iteration: 0\n",
      "Accuracy: 5.587188612099644\n",
      "Iteration: 2000\n",
      "Accuracy: 99.7864768683274\n",
      "Iteration: 4000\n",
      "Accuracy: 99.9644128113879\n",
      "Iteration: 6000\n",
      "Accuracy: 99.9644128113879\n",
      "Iteration: 8000\n",
      "Accuracy: 99.9644128113879\n"
     ]
    },
    {
     "name": "stderr",
     "output_type": "stream",
     "text": [
      "[I 2024-11-19 16:13:23,501] Trial 76 finished with value: 97.25978647686833 and parameters: {'h': 150, 'alpha': 0.006968883778874604, 'iterations': 10000}. Best is trial 52 with value: 97.47330960854093.\n"
     ]
    },
    {
     "name": "stdout",
     "output_type": "stream",
     "text": [
      "Accuracy on Test Data: 97.26%\n",
      "Iteration: 0\n",
      "Accuracy: 8.185053380782918\n",
      "Iteration: 2000\n",
      "Accuracy: 98.8967971530249\n",
      "Iteration: 4000\n",
      "Accuracy: 99.3950177935943\n"
     ]
    },
    {
     "name": "stderr",
     "output_type": "stream",
     "text": [
      "[I 2024-11-19 16:14:13,228] Trial 77 finished with value: 96.65480427046263 and parameters: {'h': 140, 'alpha': 0.004109725778595819, 'iterations': 5500}. Best is trial 52 with value: 97.47330960854093.\n"
     ]
    },
    {
     "name": "stdout",
     "output_type": "stream",
     "text": [
      "Accuracy on Test Data: 96.65%\n",
      "Iteration: 0\n",
      "Accuracy: 7.11743772241993\n",
      "Iteration: 2000\n",
      "Accuracy: 98.86120996441281\n",
      "Iteration: 4000\n",
      "Accuracy: 99.2526690391459\n",
      "Iteration: 6000\n",
      "Accuracy: 99.5729537366548\n"
     ]
    },
    {
     "name": "stderr",
     "output_type": "stream",
     "text": [
      "[I 2024-11-19 16:15:15,908] Trial 78 finished with value: 96.69039145907473 and parameters: {'h': 120, 'alpha': 0.002871912740941851, 'iterations': 7000}. Best is trial 52 with value: 97.47330960854093.\n"
     ]
    },
    {
     "name": "stdout",
     "output_type": "stream",
     "text": [
      "Accuracy on Test Data: 96.69%\n",
      "Iteration: 0\n",
      "Accuracy: 8.718861209964412\n",
      "Iteration: 2000\n",
      "Accuracy: 98.32740213523131\n",
      "Iteration: 4000\n",
      "Accuracy: 99.03914590747331\n",
      "Iteration: 6000\n",
      "Accuracy: 99.3950177935943\n",
      "Iteration: 8000\n",
      "Accuracy: 99.5729537366548\n"
     ]
    },
    {
     "name": "stderr",
     "output_type": "stream",
     "text": [
      "[I 2024-11-19 16:16:37,367] Trial 79 finished with value: 96.40569395017793 and parameters: {'h': 130, 'alpha': 0.0021950039725489624, 'iterations': 9000}. Best is trial 52 with value: 97.47330960854093.\n"
     ]
    },
    {
     "name": "stdout",
     "output_type": "stream",
     "text": [
      "Accuracy on Test Data: 96.41%\n",
      "Iteration: 0\n",
      "Accuracy: 10.391459074733095\n",
      "Iteration: 2000\n",
      "Accuracy: 99.35943060498221\n",
      "Iteration: 4000\n",
      "Accuracy: 99.6797153024911\n",
      "Iteration: 6000\n",
      "Accuracy: 99.7864768683274\n",
      "Iteration: 8000\n",
      "Accuracy: 99.92882562277579\n"
     ]
    },
    {
     "name": "stderr",
     "output_type": "stream",
     "text": [
      "[I 2024-11-19 16:17:54,482] Trial 80 finished with value: 96.90391459074733 and parameters: {'h': 200, 'alpha': 0.00539773423917778, 'iterations': 8500}. Best is trial 52 with value: 97.47330960854093.\n"
     ]
    },
    {
     "name": "stdout",
     "output_type": "stream",
     "text": [
      "Accuracy on Test Data: 96.90%\n",
      "Iteration: 0\n",
      "Accuracy: 8.362989323843415\n",
      "Iteration: 2000\n",
      "Accuracy: 99.5729537366548\n",
      "Iteration: 4000\n",
      "Accuracy: 99.8220640569395\n",
      "Iteration: 6000\n",
      "Accuracy: 99.92882562277579\n",
      "Iteration: 8000\n",
      "Accuracy: 99.92882562277579\n"
     ]
    },
    {
     "name": "stderr",
     "output_type": "stream",
     "text": [
      "[I 2024-11-19 16:19:22,822] Trial 81 finished with value: 97.15302491103202 and parameters: {'h': 180, 'alpha': 0.007253720676641213, 'iterations': 9500}. Best is trial 52 with value: 97.47330960854093.\n"
     ]
    },
    {
     "name": "stdout",
     "output_type": "stream",
     "text": [
      "Accuracy on Test Data: 97.15%\n",
      "Iteration: 0\n",
      "Accuracy: 13.060498220640572\n",
      "Iteration: 2000\n",
      "Accuracy: 99.7508896797153\n",
      "Iteration: 4000\n",
      "Accuracy: 99.92882562277579\n",
      "Iteration: 6000\n",
      "Accuracy: 99.9644128113879\n",
      "Iteration: 8000\n",
      "Accuracy: 99.9644128113879\n"
     ]
    },
    {
     "name": "stderr",
     "output_type": "stream",
     "text": [
      "[I 2024-11-19 16:20:50,540] Trial 82 finished with value: 97.25978647686833 and parameters: {'h': 190, 'alpha': 0.008161882748314989, 'iterations': 9500}. Best is trial 52 with value: 97.47330960854093.\n"
     ]
    },
    {
     "name": "stdout",
     "output_type": "stream",
     "text": [
      "Accuracy on Test Data: 97.26%\n",
      "Iteration: 0\n",
      "Accuracy: 11.708185053380783\n"
     ]
    },
    {
     "name": "stderr",
     "output_type": "stream",
     "text": [
      "[I 2024-11-19 16:20:59,568] Trial 83 finished with value: 95.83629893238435 and parameters: {'h': 170, 'alpha': 0.006954756059983166, 'iterations': 1000}. Best is trial 52 with value: 97.47330960854093.\n"
     ]
    },
    {
     "name": "stdout",
     "output_type": "stream",
     "text": [
      "Accuracy on Test Data: 95.84%\n",
      "Iteration: 0\n",
      "Accuracy: 12.028469750889679\n",
      "Iteration: 2000\n",
      "Accuracy: 99.50177935943061\n",
      "Iteration: 4000\n",
      "Accuracy: 99.85765124555161\n",
      "Iteration: 6000\n",
      "Accuracy: 99.8932384341637\n",
      "Iteration: 8000\n",
      "Accuracy: 99.9644128113879\n"
     ]
    },
    {
     "name": "stderr",
     "output_type": "stream",
     "text": [
      "[I 2024-11-19 16:22:33,358] Trial 84 finished with value: 97.40213523131672 and parameters: {'h': 160, 'alpha': 0.008873667508611204, 'iterations': 10000}. Best is trial 52 with value: 97.47330960854093.\n"
     ]
    },
    {
     "name": "stdout",
     "output_type": "stream",
     "text": [
      "Accuracy on Test Data: 97.40%\n",
      "Iteration: 0\n",
      "Accuracy: 8.790035587188612\n",
      "Iteration: 2000\n",
      "Accuracy: 99.644128113879\n",
      "Iteration: 4000\n",
      "Accuracy: 99.8932384341637\n",
      "Iteration: 6000\n",
      "Accuracy: 99.8932384341637\n",
      "Iteration: 8000\n",
      "Accuracy: 99.92882562277579\n"
     ]
    }
   ],
   "source": [
    "def objective(trial):\n",
    "    \"\"\"\n",
    "    Optuna objective function to find the best hyperparameters.\n",
    "    \"\"\"\n",
    "    # Suggest hyperparameters\n",
    "    h = trial.suggest_int(\"h\", 50, 200, step=10)  # Number of hidden neurons\n",
    "    alpha = trial.suggest_loguniform(\"alpha\", 1e-5, 1e-2)  # Learning rate\n",
    "    iterations = trial.suggest_int(\"iterations\", 1000, 10000, step=500)  # Iterations\n",
    "\n",
    "    # Train the model with the suggested hyperparameters\n",
    "    w1, b1, w2, b2 = init_params(h)\n",
    "    w1, b1, w2, b2 = train_network(X_train, Y_train, iterations, alpha)\n",
    "    \n",
    "    # Evaluate the model\n",
    "    accuracy = model_eval(X_test, Y_test, w1, b1, w2, b2)\n",
    "\n",
    "    return accuracy  # Optuna maximizes this value\n",
    "\n",
    "# Run Optuna optimization\n",
    "study = optuna.create_study(direction=\"maximize\")\n",
    "study.optimize(objective, n_trials=150\n",
    "              )\n",
    "\n",
    "# Retrieve the best hyperparameters\n",
    "best_params = study.best_params\n",
    "best_accuracy = study.best_value\n",
    "\n",
    "print(\"\\nBest Hyperparameters Found:\")\n",
    "print(f\"h = {best_params['h']}, alpha = {best_params['alpha']}, iterations = {best_params['iterations']}\")\n",
    "print(f\"Best Accuracy: {best_accuracy:.2f}%\")\n",
    "\n",
    "\n"
   ]
  },
  {
   "cell_type": "code",
   "execution_count": null,
   "id": "72a59183",
   "metadata": {},
   "outputs": [],
   "source": []
  }
 ],
 "metadata": {
  "kernelspec": {
   "display_name": "Python 3 (ipykernel)",
   "language": "python",
   "name": "python3"
  },
  "language_info": {
   "codemirror_mode": {
    "name": "ipython",
    "version": 3
   },
   "file_extension": ".py",
   "mimetype": "text/x-python",
   "name": "python",
   "nbconvert_exporter": "python",
   "pygments_lexer": "ipython3",
   "version": "3.10.11"
  }
 },
 "nbformat": 4,
 "nbformat_minor": 5
}
