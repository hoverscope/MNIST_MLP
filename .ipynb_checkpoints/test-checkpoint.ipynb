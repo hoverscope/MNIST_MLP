{
 "cells": [
  {
   "cell_type": "code",
   "execution_count": 13,
   "id": "41c34df0",
   "metadata": {},
   "outputs": [],
   "source": [
    "import pandas as pd\n",
    "import matplotlib.pyplot as plt\n",
    "import numpy as np\n",
    "\n",
    "df = pd.read_csv('data/dataSet1.csv', header = None)"
   ]
  },
  {
   "cell_type": "code",
   "execution_count": 14,
   "id": "15c175dd",
   "metadata": {},
   "outputs": [
    {
     "name": "stdout",
     "output_type": "stream",
     "text": [
      "0      0\n",
      "1      1\n",
      "2      6\n",
      "3     15\n",
      "4     12\n",
      "      ..\n",
      "60     7\n",
      "61     1\n",
      "62     0\n",
      "63     0\n",
      "64     0\n",
      "Name: 0, Length: 65, dtype: int64\n"
     ]
    }
   ],
   "source": [
    "print(df.iloc[0])"
   ]
  },
  {
   "cell_type": "code",
   "execution_count": 15,
   "id": "f8875ff6",
   "metadata": {},
   "outputs": [
    {
     "data": {
      "image/png": "[encoded data removed]",
      "text/plain": [
       "<Figure size 1000x300 with 4 Axes>"
      ]
     },
     "metadata": {},
     "output_type": "display_data"
    }
   ],
   "source": [
    "fig, axes = plt.subplots(1, 4, figsize=(10, 3))\n",
    "\n",
    "for i in range(4):\n",
    "    # Extract the first 64 values of the i-th row and reshape it into an 8x8 array\n",
    "    image_data = df.iloc[i, :64].values.reshape(8, 8)\n",
    "    \n",
    "    # Plot the image\n",
    "    axes[i].imshow(image_data, cmap='gray')\n",
    "    axes[i].axis('off')  # Hide the axes for a clean plot\n",
    "\n",
    "plt.show()"
   ]
  },
  {
   "cell_type": "code",
   "execution_count": 16,
   "id": "9d2a99cd",
   "metadata": {},
   "outputs": [],
   "source": [
    "from sklearn.model_selection import train_test_split\n",
    "from sklearn.neighbors import KNeighborsClassifier\n",
    "from sklearn.metrics import accuracy_score"
   ]
  },
  {
   "cell_type": "code",
   "execution_count": 17,
   "id": "1245d1d5",
   "metadata": {},
   "outputs": [],
   "source": [
    "df_train = pd.read_csv('data/dataSet1.csv', header=None)\n",
    "df_test = pd.read_csv('data/dataSet2.csv', header=None)"
   ]
  },
  {
   "cell_type": "code",
   "execution_count": 18,
   "id": "f14b0945",
   "metadata": {},
   "outputs": [],
   "source": [
    "X_train = df_train.iloc[:, :64]  \n",
    "y_train = df_train.iloc[:, 64] \n",
    "\n",
    "X_test = df_test.iloc[:, :64] \n",
    "y_test = df_test.iloc[:, 64] "
   ]
  },
  {
   "cell_type": "code",
   "execution_count": 19,
   "id": "05840a89",
   "metadata": {},
   "outputs": [
    {
     "name": "stdout",
     "output_type": "stream",
     "text": [
      "Accuracy on test dataset (dataSet2.csv): 98.08%\n"
     ]
    }
   ],
   "source": [
    "knn = KNeighborsClassifier(n_neighbors=3)\n",
    "knn.fit(X_train, y_train)\n",
    "\n",
    "# Make predictions on the test dataset\n",
    "y_pred = knn.predict(X_test)\n",
    "\n",
    "# Evaluate the model accuracy on the test dataset\n",
    "accuracy = accuracy_score(y_test, y_pred)\n",
    "print(f\"Accuracy on test dataset (dataSet2.csv): {accuracy * 100:.2f}%\")"
   ]
  }
 ],
 "metadata": {
  "kernelspec": {
   "display_name": "Python 3 (ipykernel)",
   "language": "python",
   "name": "python3"
  },
  "language_info": {
   "codemirror_mode": {
    "name": "ipython",
    "version": 3
   },
   "file_extension": ".py",
   "mimetype": "text/x-python",
   "name": "python",
   "nbconvert_exporter": "python",
   "pygments_lexer": "ipython3",
   "version": "3.10.11"
  }
 },
 "nbformat": 4,
 "nbformat_minor": 5
}
