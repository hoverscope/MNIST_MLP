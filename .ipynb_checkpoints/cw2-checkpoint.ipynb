{
 "cells": [
  {
   "cell_type": "code",
   "execution_count": 293,
   "id": "dcfdd883",
   "metadata": {},
   "outputs": [],
   "source": [
    "#library imports numpy, pandas and matplotlib\n",
    "import numpy as np\n",
    "import pandas as pd \n",
    "import matplotlib.pyplot as plt\n"
   ]
  },
  {
   "cell_type": "code",
   "execution_count": 294,
   "id": "067eed4e",
   "metadata": {},
   "outputs": [],
   "source": [
    "#importing dataset using pandas\n",
    "#df_train for training and df_test for testig purposes\n",
    "df_train  = pd.read_csv('data/dataSet1.csv', header = None)\n",
    "df_test  = pd.read_csv('data/dataSet2.csv', header = None)\n"
   ]
  },
  {
   "cell_type": "code",
   "execution_count": 295,
   "id": "92357144",
   "metadata": {},
   "outputs": [],
   "source": [
    "#creating numpy arrays train and test out of pd dataframe for easier data manipulation \n",
    "train = df_train .to_numpy()\n",
    "test = df_test.to_numpy()\n"
   ]
  },
  {
   "cell_type": "code",
   "execution_count": 296,
   "id": "f8f0834b",
   "metadata": {},
   "outputs": [
    {
     "data": {
      "text/plain": [
       "(2810, 65)"
      ]
     },
     "execution_count": 296,
     "metadata": {},
     "output_type": "execute_result"
    }
   ],
   "source": [
    "#checking array shape for verfication \n",
    "train.shape\n"
   ]
  },
  {
   "cell_type": "code",
   "execution_count": 297,
   "id": "4c461528",
   "metadata": {},
   "outputs": [],
   "source": [
    "#creating train and test data\n",
    "X_train = train[:, :64] #X_train contains all input values wich are the pixel values here\n",
    "Y_train = train[:, 64] #Y_train contains all label/output values wich are the actual numbers\n",
    "\n",
    "#similary this will be test data\n",
    "X_test = test[:, :64]\n",
    "Y_test = test[:, 64]\n"
   ]
  },
  {
   "cell_type": "code",
   "execution_count": 298,
   "id": "25425d0f",
   "metadata": {},
   "outputs": [],
   "source": [
    "#variable to control number of neurons in the hidden layer\n",
    "h = 100\n"
   ]
  },
  {
   "cell_type": "code",
   "execution_count": 299,
   "id": "c2cd80ab",
   "metadata": {},
   "outputs": [],
   "source": [
    "#function to generate initial values for weights and biases in the network\n",
    "def init_params(h):\n",
    "    W1 = np.random.randn(h, 64) * np.sqrt(2. / (64))\n",
    "    b1 = np.zeros((h, 1))  \n",
    "    W2 = np.random.randn(10, h) * np.sqrt(2. / (h))  \n",
    "    b2 = np.zeros((10, 1))  \n",
    "    return W1, b1, W2, b2\n"
   ]
  },
  {
   "cell_type": "code",
   "execution_count": 300,
   "id": "f4325387",
   "metadata": {},
   "outputs": [],
   "source": [
    "#defineing ReLU function\n",
    "def ReLU(Z):\n",
    "    return np.maximum(0,Z)\n"
   ]
  },
  {
   "cell_type": "code",
   "execution_count": 301,
   "id": "feca330b",
   "metadata": {},
   "outputs": [],
   "source": [
    "#defineing Sigmoid function\n",
    "def sigmoid(Z):\n",
    "    return 1/(1+np.exp(-Z))\n"
   ]
  },
  {
   "cell_type": "code",
   "execution_count": null,
   "id": "cb17f5f0",
   "metadata": {},
   "outputs": [],
   "source": [
    "# Define softmax function\n",
    "def softmax(Z):\n",
    "    expZ = np.exp(Z - np.max(Z, axis=0, keepdims=True))  # Stabilize with max subtraction for numerical stability\n",
    "    return expZ / np.sum(expZ, axis=0, keepdims=True)\n"
   ]
  },
  {
   "cell_type": "code",
   "execution_count": 302,
   "id": "0301d182",
   "metadata": {},
   "outputs": [],
   "source": [
    "#Forward Propogation Function\n",
    "def forward_prop(W1, b1, W2, b2, X):\n",
    "    Z1 = W1.dot(X.T) + b1 #input layer dot product with bias added\n",
    "    A1 = ReLU(Z1) #ReLU activation function\n",
    "    Z2 = W2.dot(A1) + b2 #hidden layer dot product with bias added\n",
    "    A2 = softmax(Z2) #sigmoid activation\n",
    "   \n",
    "    return Z1, A1, Z2, A2\n"
   ]
  },
  {
   "cell_type": "code",
   "execution_count": 303,
   "id": "47462366",
   "metadata": {},
   "outputs": [],
   "source": [
    "#mapping label to an array\n",
    "#ex: if label is 5 then map the 4th element as 1\n",
    "def one_hot_encode(Y):\n",
    "    l1 = len(Y) #get len of the array\n",
    "    l2 = 10 #10 as the numbers range from 0-9\n",
    "    one_hot_Y = np.zeros((l2, l1), dtype=int)\n",
    "    for i, label in enumerate(Y):\n",
    "        one_hot_Y[label][i] = 1\n",
    "    return one_hot_Y\n"
   ]
  },
  {
   "cell_type": "code",
   "execution_count": 304,
   "id": "92d97f4c",
   "metadata": {},
   "outputs": [],
   "source": [
    "#back propgation fucntion for the network to train it\n",
    "def back_prop(Z1, A1, Z2, A2, W2, X, Y):\n",
    "    m = Y.size  \n",
    "    one_hot_Y = one_hot_encode(Y)  \n",
    "    \n",
    "    dZ2 = A2 - one_hot_Y  # Error for output layer\n",
    "    dW2 = (1 / m) * np.dot(dZ2, A1.T)  # Gradient of W2\n",
    "    db2 = (1 / m) * np.sum(dZ2, axis=1, keepdims=True) \n",
    "    \n",
    "    # Backpropagation for the hidden layer (Z1 -> A1)\n",
    "    dZ1 = np.dot(W2.T, dZ2) * (A1 > 0) \n",
    "    dW1 = (1 / m) * np.dot(dZ1, X) \n",
    "    db1 = (1 / m) * np.sum(dZ1, axis=1, keepdims=True)  \n",
    "    \n",
    "    return dW1, db1, dW2, db2\n"
   ]
  },
  {
   "cell_type": "code",
   "execution_count": 305,
   "id": "9824e320",
   "metadata": {},
   "outputs": [],
   "source": [
    "#function to update the params as we train\n",
    "#alpha is the learning rate\n",
    "def update_params(W1, b1, W2, b2, dW1, db1, dW2, db2, alpha):\n",
    "    W1 = W1 - alpha * dW1\n",
    "    b1 = b1 - alpha * db1\n",
    "    W2 = W2 - alpha * dW2\n",
    "    b2 = b2 - alpha * db2\n",
    "    return W1, b1, W2, b2\n"
   ]
  },
  {
   "cell_type": "code",
   "execution_count": 306,
   "id": "64f070cf",
   "metadata": {},
   "outputs": [],
   "source": [
    "#function to get predictions\n",
    "def get_predictions(A2):\n",
    "    return np.argmax(A2, axis=0) "
   ]
  },
  {
   "cell_type": "code",
   "execution_count": 307,
   "id": "15cec39c",
   "metadata": {},
   "outputs": [],
   "source": [
    "def get_accuracy(predictions, Y):\n",
    "    one_hot_Y = one_hot_encode(Y)\n",
    "    accuracy = np.sum(predictions == np.argmax(one_hot_Y, axis=0)) / Y.size *100\n",
    "    print(\"Predictions:\", predictions)\n",
    "    print(\"True Labels:\", Y)\n",
    "    return accuracy\n"
   ]
  },
  {
   "cell_type": "code",
   "execution_count": 308,
   "id": "b057a8bb",
   "metadata": {},
   "outputs": [],
   "source": [
    "def gradient_descent(X_train, Y_train,iterations, alpha):\n",
    "    W1, b1, W2, b2 = init_params(h)\n",
    "\n",
    "    for i in range(iterations):\n",
    "        Z1, A1, Z2, A2 = forward_prop(W1, b1, W2, b2, X_train)\n",
    "        dW1, db1, dW2, db2 = back_prop(Z1, A1, Z2, A2, W2, X_train, Y_train)\n",
    "        W1, b1, W2, b2 = update_params(W1, b1, W2, b2, dW1, db1, dW2, db2, alpha)\n",
    "        \n",
    "        if i % 100 == 0:\n",
    "            print(\"Iteration:\", i)\n",
    "            print(\"Accuracy:\", get_accuracy(get_predictions(A2), Y_train))\n",
    "            \n",
    "    return W1, b1, W2, b2"
   ]
  },
  {
   "cell_type": "code",
   "execution_count": 309,
   "id": "2d935ad9",
   "metadata": {
    "scrolled": false
   },
   "outputs": [
    {
     "name": "stdout",
     "output_type": "stream",
     "text": [
      "Iteration: 0\n",
      "Predictions: [0 0 0 ... 0 0 8]\n",
      "True Labels: [0 0 7 ... 8 1 7]\n",
      "Accuracy: 10.569395017793594\n",
      "Iteration: 100\n",
      "Predictions: [0 0 7 ... 2 1 7]\n",
      "True Labels: [0 0 7 ... 8 1 7]\n",
      "Accuracy: 94.02135231316726\n",
      "Iteration: 200\n",
      "Predictions: [0 0 7 ... 8 1 7]\n",
      "True Labels: [0 0 7 ... 8 1 7]\n",
      "Accuracy: 96.22775800711743\n",
      "Iteration: 300\n",
      "Predictions: [0 0 7 ... 8 1 7]\n",
      "True Labels: [0 0 7 ... 8 1 7]\n",
      "Accuracy: 97.11743772241994\n",
      "Iteration: 400\n",
      "Predictions: [0 0 7 ... 8 1 7]\n",
      "True Labels: [0 0 7 ... 8 1 7]\n",
      "Accuracy: 97.50889679715303\n",
      "Iteration: 500\n",
      "Predictions: [0 0 7 ... 8 1 7]\n",
      "True Labels: [0 0 7 ... 8 1 7]\n",
      "Accuracy: 97.90035587188612\n",
      "Iteration: 600\n",
      "Predictions: [0 0 7 ... 8 1 7]\n",
      "True Labels: [0 0 7 ... 8 1 7]\n",
      "Accuracy: 98.04270462633453\n",
      "Iteration: 700\n",
      "Predictions: [0 0 7 ... 8 1 7]\n",
      "True Labels: [0 0 7 ... 8 1 7]\n",
      "Accuracy: 98.25622775800711\n",
      "Iteration: 800\n",
      "Predictions: [0 0 7 ... 8 1 7]\n",
      "True Labels: [0 0 7 ... 8 1 7]\n",
      "Accuracy: 98.43416370106762\n",
      "Iteration: 900\n",
      "Predictions: [0 0 7 ... 8 1 7]\n",
      "True Labels: [0 0 7 ... 8 1 7]\n",
      "Accuracy: 98.61209964412811\n",
      "Iteration: 1000\n",
      "Predictions: [0 0 7 ... 8 1 7]\n",
      "True Labels: [0 0 7 ... 8 1 7]\n",
      "Accuracy: 98.68327402135232\n",
      "Iteration: 1100\n",
      "Predictions: [0 0 7 ... 8 1 7]\n",
      "True Labels: [0 0 7 ... 8 1 7]\n",
      "Accuracy: 98.96797153024912\n"
     ]
    }
   ],
   "source": [
    "W1, b1, W2, b2 = gradient_descent(X_train, Y_train,1200, 0.01)"
   ]
  },
  {
   "cell_type": "code",
   "execution_count": 310,
   "id": "77cd6931",
   "metadata": {},
   "outputs": [],
   "source": [
    "def predict(X, Y, index, W1, b1, W2, b2):\n",
    "    \n",
    "    Z1, A1, Z2, A2 = forward_prop(W1, b1, W2, b2, X)\n",
    "    \n",
    "    predictions = get_predictions(A2)\n",
    "    \n",
    "    predicted_label = predictions[index]\n",
    "    \n",
    "    actual_label = Y[index]\n",
    "    \n",
    "    image_data = X[index, :64].reshape(8, 8)   \n",
    "    \n",
    "    plt.imshow(image_data, cmap='gray')\n",
    "    plt.axis('off')  # Hide the axes for a clean plot\n",
    "    plt.title(f\"Predicted: {predicted_label}, Actual: {actual_label}\")\n",
    "    plt.show()\n",
    "    \n",
    "    # Print the predicted and actual labels for the given index\n",
    "    print(f\"Index: {index}\")\n",
    "    print(f\"Predicted Label: {predicted_label}\")\n",
    "    print(f\"Actual Label: {actual_label}\")\n"
   ]
  },
  {
   "cell_type": "code",
   "execution_count": 311,
   "id": "8868ac7a",
   "metadata": {},
   "outputs": [
    {
     "data": {
      "image/png": "[encoded data removed]",
      "text/plain": [
       "<Figure size 640x480 with 1 Axes>"
      ]
     },
     "metadata": {},
     "output_type": "display_data"
    },
    {
     "name": "stdout",
     "output_type": "stream",
     "text": [
      "Index: 91\n",
      "Predicted Label: 6\n",
      "Actual Label: 6\n"
     ]
    }
   ],
   "source": [
    "index = 91\n",
    "\n",
    "predict(X_test, Y_test, index, W1, b1, W2, b2)\n"
   ]
  },
  {
   "cell_type": "code",
   "execution_count": 312,
   "id": "2736cac1",
   "metadata": {},
   "outputs": [
    {
     "name": "stdout",
     "output_type": "stream",
     "text": [
      "Evaluating on Training Data:\n",
      "Predictions: [0 0 7 ... 8 1 7]\n",
      "True Labels: [0 0 7 ... 8 1 7]\n",
      "Training Accuracy: 99.15%\n",
      "\n",
      "Evaluating on Test Data:\n",
      "Predictions: [0 2 5 ... 8 9 8]\n",
      "True Labels: [0 2 5 ... 8 9 8]\n",
      "Test Accuracy: 96.30%\n",
      "\n",
      "The model does not appear to be overfitting.\n"
     ]
    }
   ],
   "source": [
    "def evaluate_model(X, Y, W1, b1, W2, b2):\n",
    "   \n",
    "    Z1, A1, Z2, A2 = forward_prop(W1, b1, W2, b2, X)\n",
    "    predictions = get_predictions(A2)\n",
    "    accuracy = get_accuracy(predictions, Y)\n",
    "    return accuracy\n",
    "\n",
    "# Evaluate on training data\n",
    "print(\"Evaluating on Training Data:\")\n",
    "train_accuracy = evaluate_model(X_train, Y_train, W1, b1, W2, b2)\n",
    "print(f\"Training Accuracy: {train_accuracy:.2f}%\")\n",
    "\n",
    "# Evaluate on test data\n",
    "print(\"\\nEvaluating on Test Data:\")\n",
    "test_accuracy = evaluate_model(X_test, Y_test, W1, b1, W2, b2)\n",
    "print(f\"Test Accuracy: {test_accuracy:.2f}%\")\n",
    "\n",
    "# Check for overfitting\n",
    "if train_accuracy > test_accuracy + 10:  # Arbitrary threshold (10%) to indicate overfitting\n",
    "    print(\"\\nThe model may be overfitting.\")\n",
    "else:\n",
    "    print(\"\\nThe model does not appear to be overfitting.\")\n"
   ]
  },
  {
   "cell_type": "code",
   "execution_count": null,
   "id": "efdfef14",
   "metadata": {},
   "outputs": [],
   "source": []
  }
 ],
 "metadata": {
  "kernelspec": {
   "display_name": "Python 3 (ipykernel)",
   "language": "python",
   "name": "python3"
  },
  "language_info": {
   "codemirror_mode": {
    "name": "ipython",
    "version": 3
   },
   "file_extension": ".py",
   "mimetype": "text/x-python",
   "name": "python",
   "nbconvert_exporter": "python",
   "pygments_lexer": "ipython3",
   "version": "3.10.11"
  }
 },
 "nbformat": 4,
 "nbformat_minor": 5
}
