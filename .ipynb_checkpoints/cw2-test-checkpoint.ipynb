{
 "cells": [
  {
   "cell_type": "code",
   "execution_count": 71,
   "id": "dcfdd883",
   "metadata": {},
   "outputs": [],
   "source": [
    "#library imports numpy, pandas and matplotlib\n",
    "import numpy as np\n",
    "import pandas as pd \n",
    "import matplotlib.pyplot as plt\n"
   ]
  },
  {
   "cell_type": "code",
   "execution_count": 72,
   "id": "067eed4e",
   "metadata": {},
   "outputs": [],
   "source": [
    "#importing dataset using pandas\n",
    "#df_train for training and df_test for testig purposes\n",
    "df_train  = pd.read_csv('data/dataSet1.csv', header = None)\n",
    "df_test  = pd.read_csv('data/dataSet2.csv', header = None)\n"
   ]
  },
  {
   "cell_type": "code",
   "execution_count": 73,
   "id": "92357144",
   "metadata": {},
   "outputs": [],
   "source": [
    "#creating numpy arrays train and test out of pd dataframe for easier data manipulation \n",
    "train = df_train .to_numpy()\n",
    "test = df_test.to_numpy()\n"
   ]
  },
  {
   "cell_type": "code",
   "execution_count": 74,
   "id": "f8f0834b",
   "metadata": {},
   "outputs": [
    {
     "data": {
      "text/plain": [
       "(2810, 65)"
      ]
     },
     "execution_count": 74,
     "metadata": {},
     "output_type": "execute_result"
    }
   ],
   "source": [
    "#checking array shape for verfication \n",
    "train.shape\n"
   ]
  },
  {
   "cell_type": "code",
   "execution_count": 75,
   "id": "4c461528",
   "metadata": {},
   "outputs": [],
   "source": [
    "#creating train and test data\n",
    "X_train = train[:, :64] #X_train contains all input values wich are the pixel values here\n",
    "Y_train = train[:, 64] #Y_train contains all label/output values wich are the actual numbers\n",
    "\n",
    "#similary this will be test data\n",
    "X_test = test[:, :64]\n",
    "Y_test = test[:, 64]\n"
   ]
  },
  {
   "cell_type": "code",
   "execution_count": 76,
   "id": "25425d0f",
   "metadata": {},
   "outputs": [],
   "source": [
    "#variable to control number of neurons in the hidden layer\n",
    "h = 128\n"
   ]
  },
  {
   "cell_type": "code",
   "execution_count": 77,
   "id": "c2cd80ab",
   "metadata": {},
   "outputs": [],
   "source": [
    "#function to generate initial values for weights and biases in the network\n",
    "def init_params(h):\n",
    "    w1 = np.random.randn(h, 64) * np.sqrt(2. / (64)) #w1 weights for input layer\n",
    "    b1 = np.zeros((h, 1))   #b1 bias for input layer \n",
    "    w2 = np.random.randn(10, h) * np.sqrt(2. / (h)) #w2 weights for input layer\n",
    "    b2 = np.zeros((10, 1)) #b2 weights for input layer\n",
    "    return w1, b1, w1, b2\n"
   ]
  },
  {
   "cell_type": "code",
   "execution_count": 78,
   "id": "f4325387",
   "metadata": {},
   "outputs": [],
   "source": [
    "#defineing ReLU function\n",
    "def ReLU(Z):\n",
    "    return np.maximum(0,Z)\n"
   ]
  },
  {
   "cell_type": "code",
   "execution_count": 79,
   "id": "feca330b",
   "metadata": {},
   "outputs": [],
   "source": [
    "#defineing Sigmoid function\n",
    "def sigmoid(Z):\n",
    "    return 1/(1+np.exp(-Z))\n"
   ]
  },
  {
   "cell_type": "code",
   "execution_count": 80,
   "id": "0301d182",
   "metadata": {},
   "outputs": [],
   "source": [
    "#Forward Propogation Function\n",
    "def forward_prop(w1, b1, w2, b2, X):\n",
    "    Z1 = w1.dot(X.T) + b1 #input layer dot product with bias added\n",
    "    A1 = ReLU(Z1) #ReLU activation function\n",
    "    Z2 = w2.dot(A1) + b2 #hidden layer dot product with bias added\n",
    "    A2 = sigmoid(Z2) #sigmoid activation\n",
    "   \n",
    "    return Z1, A1, Z2, A2\n"
   ]
  },
  {
   "cell_type": "code",
   "execution_count": 81,
   "id": "47462366",
   "metadata": {},
   "outputs": [],
   "source": [
    "#mapping label to an array\n",
    "#ex: if label is 5 then map the 4th element as 1\n",
    "\n",
    "def one_hot_encode(Y):\n",
    "    l1 = len(Y) #get len of the array\n",
    "    l2 = 10 #10 as the numbers range from 0-9\n",
    "    one_hot_Y = np.zeros((l2, l1), dtype=int)\n",
    "    for i, label in enumerate(Y):\n",
    "        one_hot_Y[label][i] = 1\n",
    "    return one_hot_Y\n"
   ]
  },
  {
   "cell_type": "code",
   "execution_count": 82,
   "id": "92d97f4c",
   "metadata": {},
   "outputs": [],
   "source": [
    "#back propgation function for the network to train it\n",
    "def back_prop(Z1, A1, Z2, A2, w2, X, Y):\n",
    "    m = Y.size  \n",
    "    one_hot_Y = one_hot_encode(Y)  \n",
    "    \n",
    "    dZ2 = A2 - one_hot_Y  # Error for output layer\n",
    "    dW2 = (1 / m) * np.dot(dZ2, A1.T)  # Gradient of W2\n",
    "    db2 = (1 / m) * np.sum(dZ2, axis=1, keepdims=True) \n",
    "    \n",
    "    # Backpropagation for the hidden layer (Z1 -> A1)\n",
    "    dZ1 = np.dot(w2.T, dZ2) * (A1 > 0) \n",
    "    dW1 = (1 / m) * np.dot(dZ1, X) \n",
    "    db1 = (1 / m) * np.sum(dZ1, axis=1, keepdims=True)  \n",
    "    \n",
    "    return dW1, db1, dW2, db2\n"
   ]
  },
  {
   "cell_type": "code",
   "execution_count": 83,
   "id": "9824e320",
   "metadata": {},
   "outputs": [
    {
     "ename": "SyntaxError",
     "evalue": "duplicate argument 'w1' in function definition (325169857.py, line 3)",
     "output_type": "error",
     "traceback": [
      "\u001b[1;36m  Cell \u001b[1;32mIn[83], line 3\u001b[1;36m\u001b[0m\n\u001b[1;33m    def update_params(w1, b1, w1, b2, dw1, db1, dw1, db2, alpha):\u001b[0m\n\u001b[1;37m                              ^\u001b[0m\n\u001b[1;31mSyntaxError\u001b[0m\u001b[1;31m:\u001b[0m duplicate argument 'w1' in function definition\n"
     ]
    }
   ],
   "source": [
    "#function to update the params as we train\n",
    "#alpha is the learning rate\n",
    "def update_params(w1, b1, w2, b2, dw1, db1, dw1, db2, alpha):\n",
    "    w1 = w1 - alpha * dw1\n",
    "    b1 = b1 - alpha * db1\n",
    "    w2 = w1 - alpha * dw1\n",
    "    b2 = b2 - alpha * db2\n",
    "    return w1, b1, w2, b2\n"
   ]
  },
  {
   "cell_type": "code",
   "execution_count": 84,
   "id": "64f070cf",
   "metadata": {},
   "outputs": [],
   "source": [
    "#function to get predictions\n",
    "def get_predictions(A2):\n",
    "    return np.argmax(A2, axis=0) "
   ]
  },
  {
   "cell_type": "code",
   "execution_count": 85,
   "id": "15cec39c",
   "metadata": {},
   "outputs": [],
   "source": [
    "#function to get accuracy\n",
    "def get_accuracy(predictions, Y):\n",
    "    one_hot_Y = one_hot_encode(Y)\n",
    "    accuracy = np.sum(predictions == np.argmax(one_hot_Y, axis=0)) / Y.size *100\n",
    "    print(\"Predictions:\", predictions)\n",
    "    print(\"True Labels:\", Y)\n",
    "    return accuracy\n"
   ]
  },
  {
   "cell_type": "code",
   "execution_count": 86,
   "id": "b057a8bb",
   "metadata": {},
   "outputs": [],
   "source": [
    "def train(X_train, Y_train,iterations, alpha):\n",
    "    w1, b1, w2, b2 = init_params(h)\n",
    "\n",
    "    for i in range(iterations):\n",
    "        Z1, A1, Z2, A2 = forward_prop(w1, b1, w2, b2, X_train)\n",
    "        dw1, db1, dw1, db2 = back_prop(Z1, A1, Z2, A2, w1, X_train, Y_train)\n",
    "        w1, b1, w2, b2 = update_params(w1, b1, w2, b2, dw1, db1, dw1, db2, alpha)\n",
    "        \n",
    "        if i % 100 == 0:\n",
    "            print(\"Iteration:\", i)\n",
    "            print(\"Accuracy:\", get_accuracy(get_predictions(A2), Y_train))\n",
    "            \n",
    "    return w1, b1, w2, b2"
   ]
  },
  {
   "cell_type": "code",
   "execution_count": 87,
   "id": "2d935ad9",
   "metadata": {
    "scrolled": false
   },
   "outputs": [
    {
     "ename": "ValueError",
     "evalue": "shapes (128,64) and (128,2810) not aligned: 64 (dim 1) != 128 (dim 0)",
     "output_type": "error",
     "traceback": [
      "\u001b[1;31m---------------------------------------------------------------------------\u001b[0m",
      "\u001b[1;31mValueError\u001b[0m                                Traceback (most recent call last)",
      "Cell \u001b[1;32mIn[87], line 1\u001b[0m\n\u001b[1;32m----> 1\u001b[0m w1, b1, w1, b2 \u001b[38;5;241m=\u001b[39m \u001b[43mtrain\u001b[49m\u001b[43m(\u001b[49m\u001b[43mX_train\u001b[49m\u001b[43m,\u001b[49m\u001b[43m \u001b[49m\u001b[43mY_train\u001b[49m\u001b[43m,\u001b[49m\u001b[38;5;241;43m1000\u001b[39;49m\u001b[43m,\u001b[49m\u001b[43m \u001b[49m\u001b[38;5;241;43m0.01\u001b[39;49m\u001b[43m)\u001b[49m\n",
      "Cell \u001b[1;32mIn[86], line 5\u001b[0m, in \u001b[0;36mtrain\u001b[1;34m(X_train, Y_train, iterations, alpha)\u001b[0m\n\u001b[0;32m      2\u001b[0m w1, b1, w1, b2 \u001b[38;5;241m=\u001b[39m init_params(h)\n\u001b[0;32m      4\u001b[0m \u001b[38;5;28;01mfor\u001b[39;00m i \u001b[38;5;129;01min\u001b[39;00m \u001b[38;5;28mrange\u001b[39m(iterations):\n\u001b[1;32m----> 5\u001b[0m     Z1, A1, Z2, A2 \u001b[38;5;241m=\u001b[39m \u001b[43mforward_prop\u001b[49m\u001b[43m(\u001b[49m\u001b[43mw1\u001b[49m\u001b[43m,\u001b[49m\u001b[43m \u001b[49m\u001b[43mb1\u001b[49m\u001b[43m,\u001b[49m\u001b[43m \u001b[49m\u001b[43mw1\u001b[49m\u001b[43m,\u001b[49m\u001b[43m \u001b[49m\u001b[43mb2\u001b[49m\u001b[43m,\u001b[49m\u001b[43m \u001b[49m\u001b[43mX_train\u001b[49m\u001b[43m)\u001b[49m\n\u001b[0;32m      6\u001b[0m     dw1, db1, dw1, db2 \u001b[38;5;241m=\u001b[39m back_prop(Z1, A1, Z2, A2, w1, X_train, Y_train)\n\u001b[0;32m      7\u001b[0m     w1, b1, w1, b2 \u001b[38;5;241m=\u001b[39m update_params(w1, b1, w1, b2, dw1, db1, dw1, db2, alpha)\n",
      "Cell \u001b[1;32mIn[80], line 5\u001b[0m, in \u001b[0;36mforward_prop\u001b[1;34m(w1, b1, w2, b2, X)\u001b[0m\n\u001b[0;32m      3\u001b[0m Z1 \u001b[38;5;241m=\u001b[39m w1\u001b[38;5;241m.\u001b[39mdot(X\u001b[38;5;241m.\u001b[39mT) \u001b[38;5;241m+\u001b[39m b1 \u001b[38;5;66;03m#input layer dot product with bias added\u001b[39;00m\n\u001b[0;32m      4\u001b[0m A1 \u001b[38;5;241m=\u001b[39m ReLU(Z1) \u001b[38;5;66;03m#ReLU activation function\u001b[39;00m\n\u001b[1;32m----> 5\u001b[0m Z2 \u001b[38;5;241m=\u001b[39m \u001b[43mw2\u001b[49m\u001b[38;5;241;43m.\u001b[39;49m\u001b[43mdot\u001b[49m\u001b[43m(\u001b[49m\u001b[43mA1\u001b[49m\u001b[43m)\u001b[49m \u001b[38;5;241m+\u001b[39m b2 \u001b[38;5;66;03m#hidden layer dot product with bias added\u001b[39;00m\n\u001b[0;32m      6\u001b[0m A2 \u001b[38;5;241m=\u001b[39m sigmoid(Z2) \u001b[38;5;66;03m#sigmoid activation\u001b[39;00m\n\u001b[0;32m      8\u001b[0m \u001b[38;5;28;01mreturn\u001b[39;00m Z1, A1, Z2, A2\n",
      "\u001b[1;31mValueError\u001b[0m: shapes (128,64) and (128,2810) not aligned: 64 (dim 1) != 128 (dim 0)"
     ]
    }
   ],
   "source": [
    "w1, b1, w2, b2 = train(X_train, Y_train,1000, 0.01)"
   ]
  },
  {
   "cell_type": "code",
   "execution_count": null,
   "id": "77cd6931",
   "metadata": {},
   "outputs": [],
   "source": [
    "def predict(X, Y, index, w1, b1, w2, b2):\n",
    "    \n",
    "    Z1, A1, Z2, A2 = forward_prop(w1, b1, w2, b2, X)\n",
    "    \n",
    "    predictions = get_predictions(A2)\n",
    "    \n",
    "    predicted_label = predictions[index]\n",
    "    \n",
    "    actual_label = Y[index]\n",
    "    \n",
    "    image_data = X[index, :64].reshape(8, 8)   \n",
    "    \n",
    "    plt.imshow(image_data, cmap='gray')\n",
    "    plt.axis('off')  # Hide the axes for a clean plot\n",
    "    plt.title(f\"Predicted: {predicted_label}, Actual: {actual_label}\")\n",
    "    plt.show()\n",
    "    \n",
    "    # Print the predicted and actual labels for the given index\n",
    "    print(f\"Index: {index}\")\n",
    "    print(f\"Predicted Label: {predicted_label}\")\n",
    "    print(f\"Actual Label: {actual_label}\")\n"
   ]
  },
  {
   "cell_type": "code",
   "execution_count": null,
   "id": "8868ac7a",
   "metadata": {},
   "outputs": [
    {
     "data": {
      "image/png": "[encoded data removed]",
      "text/plain": [
       "<Figure size 640x480 with 1 Axes>"
      ]
     },
     "metadata": {},
     "output_type": "display_data"
    },
    {
     "name": "stdout",
     "output_type": "stream",
     "text": [
      "Index: 91\n",
      "Predicted Label: 6\n",
      "Actual Label: 6\n"
     ]
    }
   ],
   "source": [
    "index = 91\n",
    "\n",
    "predict(X_test, Y_test, index, w1, b1, w2, b2)\n"
   ]
  },
  {
   "cell_type": "code",
   "execution_count": null,
   "id": "2feed181",
   "metadata": {},
   "outputs": [],
   "source": []
  }
 ],
 "metadata": {
  "kernelspec": {
   "display_name": "Python 3 (ipykernel)",
   "language": "python",
   "name": "python3"
  },
  "language_info": {
   "codemirror_mode": {
    "name": "ipython",
    "version": 3
   },
   "file_extension": ".py",
   "mimetype": "text/x-python",
   "name": "python",
   "nbconvert_exporter": "python",
   "pygments_lexer": "ipython3",
   "version": "3.10.11"
  }
 },
 "nbformat": 4,
 "nbformat_minor": 5
}
