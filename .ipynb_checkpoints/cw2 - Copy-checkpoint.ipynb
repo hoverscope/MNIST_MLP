{
 "cells": [
  {
   "cell_type": "code",
   "execution_count": 1,
   "id": "dcfdd883",
   "metadata": {},
   "outputs": [],
   "source": [
    "#library imports numpy, pandas and matplotlib\n",
    "import numpy as np\n",
    "import pandas as pd \n",
    "import matplotlib.pyplot as plt\n"
   ]
  },
  {
   "cell_type": "code",
   "execution_count": 2,
   "id": "067eed4e",
   "metadata": {},
   "outputs": [],
   "source": [
    "#importing dataset using pandas\n",
    "#df_train for training and df_test for testig purposes\n",
    "df_train  = pd.read_csv('data/dataSet1.csv', header = None)\n",
    "df_test  = pd.read_csv('data/dataSet2.csv', header = None)\n"
   ]
  },
  {
   "cell_type": "code",
   "execution_count": 3,
   "id": "92357144",
   "metadata": {},
   "outputs": [],
   "source": [
    "#creating numpy arrays train and test out of pd dataframe for easier data manipulation \n",
    "train = df_train.to_numpy()\n",
    "test = df_test.to_numpy()\n"
   ]
  },
  {
   "cell_type": "code",
   "execution_count": 4,
   "id": "f8f0834b",
   "metadata": {},
   "outputs": [
    {
     "data": {
      "text/plain": [
       "(2810, 65)"
      ]
     },
     "execution_count": 4,
     "metadata": {},
     "output_type": "execute_result"
    }
   ],
   "source": [
    "#checking array shape for verfication \n",
    "train.shape\n"
   ]
  },
  {
   "cell_type": "code",
   "execution_count": 5,
   "id": "4c461528",
   "metadata": {},
   "outputs": [],
   "source": [
    "#creating train and test data\n",
    "X_train = train[:, :64] #X_train contains all input values wich are the pixel values here\n",
    "Y_train = train[:, 64] #Y_train contains all label/output values wich are the actual numbers\n",
    "\n",
    "#similary this will be test data\n",
    "X_test = test[:, :64]\n",
    "Y_test = test[:, 64]\n"
   ]
  },
  {
   "cell_type": "code",
   "execution_count": 6,
   "id": "25425d0f",
   "metadata": {},
   "outputs": [],
   "source": [
    "#defining hyperparameters \n",
    "#h is the number of neurons in the hidden layer\n",
    "#training_cycles is number of cycles\n",
    "#learning_rate is to control the models learning rate\n",
    "\n",
    "h = 64\n",
    "training_cycles = 1200\n",
    "learning_rate = 0.001\n"
   ]
  },
  {
   "cell_type": "code",
   "execution_count": 7,
   "id": "c2cd80ab",
   "metadata": {},
   "outputs": [],
   "source": [
    "#function to generate initial values for weights and biases in the network\n",
    "def init_params(h):\n",
    "    w1 = np.random.randn(h, 64) * np.sqrt(2. / (64))\n",
    "    b1 = np.zeros((h, 1))  \n",
    "    w2 = np.random.randn(10, h) * np.sqrt(2. / (h))  \n",
    "    b2 = np.zeros((10, 1))  \n",
    "    return w1, b1, w2, b2\n"
   ]
  },
  {
   "cell_type": "code",
   "execution_count": 8,
   "id": "f4325387",
   "metadata": {},
   "outputs": [],
   "source": [
    "#defineing ReLU function\n",
    "def ReLU(Z):\n",
    "    return np.maximum(0,Z)\n"
   ]
  },
  {
   "cell_type": "code",
   "execution_count": 9,
   "id": "feca330b",
   "metadata": {},
   "outputs": [],
   "source": [
    "#defineing Sigmoid function\n",
    "def sigmoid(Z):\n",
    "    return 1/(1+np.exp(-Z))\n"
   ]
  },
  {
   "cell_type": "code",
   "execution_count": 10,
   "id": "0301d182",
   "metadata": {},
   "outputs": [],
   "source": [
    "#Forward Propogation Function\n",
    "def feed_forward(w1, b1, w2, b2, X):\n",
    "    Z1 = w1.dot(X.T) + b1 #input layer dot product with bias added\n",
    "    A1 = ReLU(Z1) #ReLU activation function\n",
    "    Z2 = w2.dot(A1) + b2 #hidden layer dot product with bias added\n",
    "    A2 = sigmoid(Z2) #sigmoid activation\n",
    "   \n",
    "    return Z1, A1, Z2, A2\n"
   ]
  },
  {
   "cell_type": "code",
   "execution_count": 11,
   "id": "47462366",
   "metadata": {},
   "outputs": [],
   "source": [
    "#mapping label to an array\n",
    "#ex: if label is 5 then map the 4th element as 1\n",
    "\n",
    "def map_labels(Y):\n",
    "    l1 = len(Y) #get len of the array\n",
    "    l2 = 10 #10 as the numbers range from 0-9\n",
    "    mapped_label = np.zeros((l2, l1), dtype=int)\n",
    "    for i, label in enumerate(Y):\n",
    "        mapped_label[label][i] = 1\n",
    "    return mapped_label\n"
   ]
  },
  {
   "cell_type": "code",
   "execution_count": 12,
   "id": "92d97f4c",
   "metadata": {},
   "outputs": [],
   "source": [
    "#back propgation fucntion for the network to train it\n",
    "def back_prop(Z1, A1, Z2, A2, w2, X, Y):\n",
    "    m = Y.size  \n",
    "    mapped_label = map_labels(Y)  \n",
    "    \n",
    "    dZ2 = A2 - mapped_label  # Error for output layer\n",
    "    dw2 = (1 / m) * np.dot(dZ2, A1.T)  # Gradient of w2\n",
    "    db2 = (1 / m) * np.sum(dZ2, axis=1, keepdims=True) \n",
    "    \n",
    "    # Backpropagation for the hidden layer (Z1 -> A1)\n",
    "    dZ1 = np.dot(w2.T, dZ2) * (A1 > 0) \n",
    "    dw1 = (1 / m) * np.dot(dZ1, X) \n",
    "    db1 = (1 / m) * np.sum(dZ1, axis=1, keepdims=True)  \n",
    "    \n",
    "    return dw1, db1, dw2, db2\n"
   ]
  },
  {
   "cell_type": "code",
   "execution_count": 13,
   "id": "9824e320",
   "metadata": {},
   "outputs": [],
   "source": [
    "#function to update the params as we train\n",
    "#alpha is the learning rate\n",
    "def update_params(w1, b1, w2, b2, dw1, db1, dw2, db2, alpha):\n",
    "    w1 = w1 - alpha * dw1\n",
    "    b1 = b1 - alpha * db1\n",
    "    w2 = w2 - alpha * dw2\n",
    "    b2 = b2 - alpha * db2\n",
    "    return w1, b1, w2, b2\n"
   ]
  },
  {
   "cell_type": "code",
   "execution_count": 14,
   "id": "64f070cf",
   "metadata": {},
   "outputs": [],
   "source": [
    "#function to get predictions\n",
    "def get_predictions(A2):\n",
    "    return np.argmax(A2, axis=0) "
   ]
  },
  {
   "cell_type": "code",
   "execution_count": 15,
   "id": "15cec39c",
   "metadata": {},
   "outputs": [],
   "source": [
    "def get_accuracy(predictions, Y):\n",
    "    mapped_label = map_labels(Y)\n",
    "    accuracy = np.sum(predictions == np.argmax(mapped_label, axis=0)) / Y.size *100\n",
    "    print(\"Predictions:\", predictions)\n",
    "    print(\"True Labels:\", Y)\n",
    "    return accuracy\n"
   ]
  },
  {
   "cell_type": "code",
   "execution_count": 16,
   "id": "b057a8bb",
   "metadata": {},
   "outputs": [],
   "source": [
    "def train_network(X_train, Y_train,iterations, alpha):\n",
    "    w1, b1, w2, b2 = init_params(h)\n",
    "\n",
    "    for i in range(iterations):\n",
    "        Z1, A1, Z2, A2 = feed_forward(w1, b1, w2, b2, X_train)\n",
    "        dw1, db1, dw2, db2 = back_prop(Z1, A1, Z2, A2, w2, X_train, Y_train)\n",
    "        w1, b1, w2, b2 = update_params(w1, b1, w2, b2, dw1, db1, dw2, db2, alpha)\n",
    "        \n",
    "        if i % 100 == 0:\n",
    "            print(\"Iteration:\", i)\n",
    "            print(\"Accuracy:\", get_accuracy(get_predictions(A2), Y_train))\n",
    "            \n",
    "    return w1, b1, w2, b2"
   ]
  },
  {
   "cell_type": "code",
   "execution_count": null,
   "id": "2d935ad9",
   "metadata": {
    "scrolled": false
   },
   "outputs": [
    {
     "name": "stdout",
     "output_type": "stream",
     "text": [
      "Iteration: 0\n",
      "Predictions: [5 5 9 ... 5 5 9]\n",
      "True Labels: [0 0 7 ... 8 1 7]\n",
      "Accuracy: 9.466192170818506\n",
      "Iteration: 100\n",
      "Predictions: [5 7 0 ... 5 5 0]\n",
      "True Labels: [0 0 7 ... 8 1 7]\n",
      "Accuracy: 11.281138790035588\n",
      "Iteration: 200\n",
      "Predictions: [6 7 0 ... 5 9 0]\n",
      "True Labels: [0 0 7 ... 8 1 7]\n",
      "Accuracy: 13.202846975088969\n",
      "Iteration: 300\n",
      "Predictions: [6 7 0 ... 5 9 0]\n",
      "True Labels: [0 0 7 ... 8 1 7]\n",
      "Accuracy: 15.836298932384341\n",
      "Iteration: 400\n",
      "Predictions: [6 7 2 ... 5 9 0]\n",
      "True Labels: [0 0 7 ... 8 1 7]\n",
      "Accuracy: 17.580071174377224\n",
      "Iteration: 500\n",
      "Predictions: [6 7 2 ... 5 9 0]\n",
      "True Labels: [0 0 7 ... 8 1 7]\n",
      "Accuracy: 19.644128113879002\n",
      "Iteration: 600\n",
      "Predictions: [6 7 2 ... 5 9 1]\n",
      "True Labels: [0 0 7 ... 8 1 7]\n",
      "Accuracy: 21.494661921708186\n",
      "Iteration: 700\n",
      "Predictions: [6 7 2 ... 5 9 1]\n",
      "True Labels: [0 0 7 ... 8 1 7]\n",
      "Accuracy: 23.594306049822062\n",
      "Iteration: 800\n",
      "Predictions: [0 4 2 ... 5 9 1]\n",
      "True Labels: [0 0 7 ... 8 1 7]\n",
      "Accuracy: 25.516014234875446\n",
      "Iteration: 900\n",
      "Predictions: [0 4 2 ... 4 9 1]\n",
      "True Labels: [0 0 7 ... 8 1 7]\n",
      "Accuracy: 27.793594306049823\n",
      "Iteration: 1000\n",
      "Predictions: [0 4 2 ... 5 9 1]\n",
      "True Labels: [0 0 7 ... 8 1 7]\n",
      "Accuracy: 30.604982206405694\n",
      "Iteration: 1100\n",
      "Predictions: [0 0 2 ... 5 9 1]\n",
      "True Labels: [0 0 7 ... 8 1 7]\n",
      "Accuracy: 32.77580071174378\n",
      "Iteration: 1200\n",
      "Predictions: [0 0 2 ... 5 9 1]\n",
      "True Labels: [0 0 7 ... 8 1 7]\n",
      "Accuracy: 34.83985765124555\n",
      "Iteration: 1300\n",
      "Predictions: [0 0 2 ... 5 9 1]\n",
      "True Labels: [0 0 7 ... 8 1 7]\n",
      "Accuracy: 37.11743772241993\n",
      "Iteration: 1400\n",
      "Predictions: [0 0 2 ... 5 9 1]\n",
      "True Labels: [0 0 7 ... 8 1 7]\n",
      "Accuracy: 39.32384341637011\n",
      "Iteration: 1500\n",
      "Predictions: [0 0 2 ... 5 9 1]\n",
      "True Labels: [0 0 7 ... 8 1 7]\n",
      "Accuracy: 41.494661921708186\n",
      "Iteration: 1600\n",
      "Predictions: [0 0 2 ... 5 9 1]\n",
      "True Labels: [0 0 7 ... 8 1 7]\n",
      "Accuracy: 43.80782918149466\n",
      "Iteration: 1700\n",
      "Predictions: [0 0 2 ... 5 9 1]\n",
      "True Labels: [0 0 7 ... 8 1 7]\n",
      "Accuracy: 46.22775800711744\n",
      "Iteration: 1800\n",
      "Predictions: [0 0 2 ... 5 9 1]\n",
      "True Labels: [0 0 7 ... 8 1 7]\n",
      "Accuracy: 48.29181494661922\n",
      "Iteration: 1900\n",
      "Predictions: [0 0 2 ... 5 9 1]\n",
      "True Labels: [0 0 7 ... 8 1 7]\n",
      "Accuracy: 50.4270462633452\n",
      "Iteration: 2000\n",
      "Predictions: [0 0 2 ... 5 9 1]\n",
      "True Labels: [0 0 7 ... 8 1 7]\n",
      "Accuracy: 52.52669039145908\n",
      "Iteration: 2100\n",
      "Predictions: [0 0 2 ... 5 9 1]\n",
      "True Labels: [0 0 7 ... 8 1 7]\n",
      "Accuracy: 54.12811387900356\n",
      "Iteration: 2200\n",
      "Predictions: [0 0 2 ... 5 9 1]\n",
      "True Labels: [0 0 7 ... 8 1 7]\n",
      "Accuracy: 56.29893238434164\n",
      "Iteration: 2300\n",
      "Predictions: [0 0 2 ... 5 9 1]\n",
      "True Labels: [0 0 7 ... 8 1 7]\n",
      "Accuracy: 57.93594306049822\n",
      "Iteration: 2400\n",
      "Predictions: [0 0 2 ... 5 9 1]\n",
      "True Labels: [0 0 7 ... 8 1 7]\n",
      "Accuracy: 59.644128113879006\n",
      "Iteration: 2500\n",
      "Predictions: [0 0 2 ... 5 9 1]\n",
      "True Labels: [0 0 7 ... 8 1 7]\n",
      "Accuracy: 61.387900355871885\n",
      "Iteration: 2600\n",
      "Predictions: [0 0 2 ... 5 9 1]\n",
      "True Labels: [0 0 7 ... 8 1 7]\n",
      "Accuracy: 62.84697508896797\n",
      "Iteration: 2700\n",
      "Predictions: [0 0 2 ... 5 9 1]\n",
      "True Labels: [0 0 7 ... 8 1 7]\n",
      "Accuracy: 64.05693950177937\n",
      "Iteration: 2800\n",
      "Predictions: [0 0 2 ... 5 9 1]\n",
      "True Labels: [0 0 7 ... 8 1 7]\n",
      "Accuracy: 65.40925266903915\n",
      "Iteration: 2900\n",
      "Predictions: [0 0 2 ... 5 9 1]\n",
      "True Labels: [0 0 7 ... 8 1 7]\n",
      "Accuracy: 66.65480427046263\n",
      "Iteration: 3000\n",
      "Predictions: [0 0 7 ... 8 9 1]\n",
      "True Labels: [0 0 7 ... 8 1 7]\n",
      "Accuracy: 67.72241992882563\n",
      "Iteration: 3100\n",
      "Predictions: [0 0 7 ... 8 9 1]\n",
      "True Labels: [0 0 7 ... 8 1 7]\n",
      "Accuracy: 68.64768683274022\n",
      "Iteration: 3200\n",
      "Predictions: [0 0 7 ... 8 9 1]\n",
      "True Labels: [0 0 7 ... 8 1 7]\n",
      "Accuracy: 69.21708185053382\n",
      "Iteration: 3300\n",
      "Predictions: [0 0 7 ... 8 9 1]\n",
      "True Labels: [0 0 7 ... 8 1 7]\n",
      "Accuracy: 70.35587188612101\n",
      "Iteration: 3400\n",
      "Predictions: [0 0 7 ... 8 9 1]\n",
      "True Labels: [0 0 7 ... 8 1 7]\n",
      "Accuracy: 71.1032028469751\n",
      "Iteration: 3500\n",
      "Predictions: [0 0 7 ... 8 9 1]\n",
      "True Labels: [0 0 7 ... 8 1 7]\n",
      "Accuracy: 72.17081850533808\n",
      "Iteration: 3600\n",
      "Predictions: [0 0 7 ... 8 9 1]\n",
      "True Labels: [0 0 7 ... 8 1 7]\n",
      "Accuracy: 73.06049822064057\n",
      "Iteration: 3700\n",
      "Predictions: [0 0 7 ... 8 9 1]\n",
      "True Labels: [0 0 7 ... 8 1 7]\n",
      "Accuracy: 73.80782918149467\n",
      "Iteration: 3800\n",
      "Predictions: [0 0 7 ... 8 9 1]\n",
      "True Labels: [0 0 7 ... 8 1 7]\n",
      "Accuracy: 74.48398576512456\n",
      "Iteration: 3900\n",
      "Predictions: [0 0 7 ... 8 9 1]\n",
      "True Labels: [0 0 7 ... 8 1 7]\n",
      "Accuracy: 75.19572953736655\n",
      "Iteration: 4000\n",
      "Predictions: [0 0 7 ... 8 9 1]\n",
      "True Labels: [0 0 7 ... 8 1 7]\n",
      "Accuracy: 75.80071174377224\n",
      "Iteration: 4100\n",
      "Predictions: [0 0 7 ... 8 9 1]\n",
      "True Labels: [0 0 7 ... 8 1 7]\n",
      "Accuracy: 76.12099644128114\n",
      "Iteration: 4200\n",
      "Predictions: [0 0 7 ... 8 9 1]\n",
      "True Labels: [0 0 7 ... 8 1 7]\n",
      "Accuracy: 76.65480427046263\n"
     ]
    }
   ],
   "source": [
    "w1, b1, w2, b2 = train_network(X_train, Y_train,training_cycles, learning_rate)"
   ]
  },
  {
   "cell_type": "code",
   "execution_count": null,
   "id": "77cd6931",
   "metadata": {},
   "outputs": [],
   "source": [
    "def predict(X, Y, index, w1, b1, w2, b2):\n",
    "    \n",
    "    Z1, A1, Z2, A2 = feed_forward(w1, b1, w2, b2, X)\n",
    "    \n",
    "    predictions = get_predictions(A2)\n",
    "    \n",
    "    predicted_label = predictions[index]\n",
    "    \n",
    "    actual_label = Y[index]\n",
    "    \n",
    "    image_data = X[index, :64].reshape(8, 8)   \n",
    "    \n",
    "    plt.imshow(image_data, cmap='gray')\n",
    "    plt.axis('off')  # Hide the axes for a clean plot\n",
    "    plt.title(f\"Predicted: {predicted_label}, Actual: {actual_label}\")\n",
    "    plt.show()\n",
    "    \n",
    "    # Print the predicted and actual labels for the given index\n",
    "    print(f\"Index: {index}\")\n",
    "    print(f\"Predicted Label: {predicted_label}\")\n",
    "    print(f\"Actual Label: {actual_label}\")\n"
   ]
  },
  {
   "cell_type": "code",
   "execution_count": null,
   "id": "8868ac7a",
   "metadata": {},
   "outputs": [],
   "source": [
    "index = 91\n",
    "\n",
    "predict(X_test, Y_test, index, w1, b1, w2, b2)\n"
   ]
  },
  {
   "cell_type": "code",
   "execution_count": null,
   "id": "4d93a861",
   "metadata": {},
   "outputs": [],
   "source": []
  }
 ],
 "metadata": {
  "kernelspec": {
   "display_name": "Python 3 (ipykernel)",
   "language": "python",
   "name": "python3"
  },
  "language_info": {
   "codemirror_mode": {
    "name": "ipython",
    "version": 3
   },
   "file_extension": ".py",
   "mimetype": "text/x-python",
   "name": "python",
   "nbconvert_exporter": "python",
   "pygments_lexer": "ipython3",
   "version": "3.10.11"
  }
 },
 "nbformat": 4,
 "nbformat_minor": 5
}
