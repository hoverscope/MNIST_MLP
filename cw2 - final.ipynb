{
 "cells": [
  {
   "cell_type": "markdown",
   "id": "1acefdd4",
   "metadata": {},
   "source": [
    "# MNIST MLP (Multi-Layer-Perceptron ) Model"
   ]
  },
  {
   "cell_type": "markdown",
   "id": "e61f28a9",
   "metadata": {},
   "source": [
    "Multi-Layer-Perceptron Model trained on MNIST dataset. Machine learning model to categorise one of the UCI digit tasks. \n",
    "The model has one input layer, a hidden layer and an output layer. Built from scratch only using the libaray numpy."
   ]
  },
  {
   "cell_type": "markdown",
   "id": "a101529c",
   "metadata": {},
   "source": [
    "## Section 1:\n",
    "### Importing Libraries, loading the dataset and creating train and test dataset using numpy"
   ]
  },
  {
   "cell_type": "markdown",
   "id": "ef8ecf5b",
   "metadata": {},
   "source": [
    "#### Importing libraries"
   ]
  },
  {
   "cell_type": "code",
   "execution_count": 1193,
   "id": "dcfdd883",
   "metadata": {},
   "outputs": [],
   "source": [
    "#library imports numpy, pandas, matplotlib and random\n",
    "import numpy as np\n",
    "import pandas as pd \n",
    "import matplotlib.pyplot as plt\n",
    "import random\n",
    "import seaborn as sns\n",
    "\n"
   ]
  },
  {
   "cell_type": "code",
   "execution_count": 1194,
   "id": "067eed4e",
   "metadata": {},
   "outputs": [],
   "source": [
    "#importing dataset using pandas\n",
    "#df_train for training and df_test for testig purposes\n",
    "df_train  = pd.read_csv('data/dataSet1.csv', header = None)\n",
    "df_test  = pd.read_csv('data/dataSet2.csv', header = None)\n"
   ]
  },
  {
   "cell_type": "markdown",
   "id": "dbf81a5e",
   "metadata": {},
   "source": [
    "#### Checking the pandas data"
   ]
  },
  {
   "cell_type": "code",
   "execution_count": 1195,
   "id": "3d3179d2",
   "metadata": {},
   "outputs": [
    {
     "data": {
      "text/html": [
       "<div>\n",
       "<style scoped>\n",
       "    .dataframe tbody tr th:only-of-type {\n",
       "        vertical-align: middle;\n",
       "    }\n",
       "\n",
       "    .dataframe tbody tr th {\n",
       "        vertical-align: top;\n",
       "    }\n",
       "\n",
       "    .dataframe thead th {\n",
       "        text-align: right;\n",
       "    }\n",
       "</style>\n",
       "<table border=\"1\" class=\"dataframe\">\n",
       "  <thead>\n",
       "    <tr style=\"text-align: right;\">\n",
       "      <th></th>\n",
       "      <th>0</th>\n",
       "      <th>1</th>\n",
       "      <th>2</th>\n",
       "      <th>3</th>\n",
       "      <th>4</th>\n",
       "      <th>5</th>\n",
       "      <th>6</th>\n",
       "      <th>7</th>\n",
       "      <th>8</th>\n",
       "      <th>9</th>\n",
       "      <th>...</th>\n",
       "      <th>55</th>\n",
       "      <th>56</th>\n",
       "      <th>57</th>\n",
       "      <th>58</th>\n",
       "      <th>59</th>\n",
       "      <th>60</th>\n",
       "      <th>61</th>\n",
       "      <th>62</th>\n",
       "      <th>63</th>\n",
       "      <th>64</th>\n",
       "    </tr>\n",
       "  </thead>\n",
       "  <tbody>\n",
       "    <tr>\n",
       "      <th>0</th>\n",
       "      <td>0</td>\n",
       "      <td>1</td>\n",
       "      <td>6</td>\n",
       "      <td>15</td>\n",
       "      <td>12</td>\n",
       "      <td>1</td>\n",
       "      <td>0</td>\n",
       "      <td>0</td>\n",
       "      <td>0</td>\n",
       "      <td>7</td>\n",
       "      <td>...</td>\n",
       "      <td>0</td>\n",
       "      <td>0</td>\n",
       "      <td>0</td>\n",
       "      <td>6</td>\n",
       "      <td>14</td>\n",
       "      <td>7</td>\n",
       "      <td>1</td>\n",
       "      <td>0</td>\n",
       "      <td>0</td>\n",
       "      <td>0</td>\n",
       "    </tr>\n",
       "    <tr>\n",
       "      <th>1</th>\n",
       "      <td>0</td>\n",
       "      <td>0</td>\n",
       "      <td>10</td>\n",
       "      <td>16</td>\n",
       "      <td>6</td>\n",
       "      <td>0</td>\n",
       "      <td>0</td>\n",
       "      <td>0</td>\n",
       "      <td>0</td>\n",
       "      <td>7</td>\n",
       "      <td>...</td>\n",
       "      <td>0</td>\n",
       "      <td>0</td>\n",
       "      <td>0</td>\n",
       "      <td>10</td>\n",
       "      <td>16</td>\n",
       "      <td>15</td>\n",
       "      <td>3</td>\n",
       "      <td>0</td>\n",
       "      <td>0</td>\n",
       "      <td>0</td>\n",
       "    </tr>\n",
       "    <tr>\n",
       "      <th>2</th>\n",
       "      <td>0</td>\n",
       "      <td>0</td>\n",
       "      <td>8</td>\n",
       "      <td>15</td>\n",
       "      <td>16</td>\n",
       "      <td>13</td>\n",
       "      <td>0</td>\n",
       "      <td>0</td>\n",
       "      <td>0</td>\n",
       "      <td>1</td>\n",
       "      <td>...</td>\n",
       "      <td>0</td>\n",
       "      <td>0</td>\n",
       "      <td>0</td>\n",
       "      <td>9</td>\n",
       "      <td>14</td>\n",
       "      <td>0</td>\n",
       "      <td>0</td>\n",
       "      <td>0</td>\n",
       "      <td>0</td>\n",
       "      <td>7</td>\n",
       "    </tr>\n",
       "    <tr>\n",
       "      <th>3</th>\n",
       "      <td>0</td>\n",
       "      <td>0</td>\n",
       "      <td>0</td>\n",
       "      <td>3</td>\n",
       "      <td>11</td>\n",
       "      <td>16</td>\n",
       "      <td>0</td>\n",
       "      <td>0</td>\n",
       "      <td>0</td>\n",
       "      <td>0</td>\n",
       "      <td>...</td>\n",
       "      <td>0</td>\n",
       "      <td>0</td>\n",
       "      <td>0</td>\n",
       "      <td>0</td>\n",
       "      <td>1</td>\n",
       "      <td>15</td>\n",
       "      <td>2</td>\n",
       "      <td>0</td>\n",
       "      <td>0</td>\n",
       "      <td>4</td>\n",
       "    </tr>\n",
       "    <tr>\n",
       "      <th>4</th>\n",
       "      <td>0</td>\n",
       "      <td>0</td>\n",
       "      <td>5</td>\n",
       "      <td>14</td>\n",
       "      <td>4</td>\n",
       "      <td>0</td>\n",
       "      <td>0</td>\n",
       "      <td>0</td>\n",
       "      <td>0</td>\n",
       "      <td>0</td>\n",
       "      <td>...</td>\n",
       "      <td>0</td>\n",
       "      <td>0</td>\n",
       "      <td>0</td>\n",
       "      <td>4</td>\n",
       "      <td>12</td>\n",
       "      <td>14</td>\n",
       "      <td>7</td>\n",
       "      <td>0</td>\n",
       "      <td>0</td>\n",
       "      <td>6</td>\n",
       "    </tr>\n",
       "  </tbody>\n",
       "</table>\n",
       "<p>5 rows × 65 columns</p>\n",
       "</div>"
      ],
      "text/plain": [
       "   0   1   2   3   4   5   6   7   8   9   ...  55  56  57  58  59  60  61  \\\n",
       "0   0   1   6  15  12   1   0   0   0   7  ...   0   0   0   6  14   7   1   \n",
       "1   0   0  10  16   6   0   0   0   0   7  ...   0   0   0  10  16  15   3   \n",
       "2   0   0   8  15  16  13   0   0   0   1  ...   0   0   0   9  14   0   0   \n",
       "3   0   0   0   3  11  16   0   0   0   0  ...   0   0   0   0   1  15   2   \n",
       "4   0   0   5  14   4   0   0   0   0   0  ...   0   0   0   4  12  14   7   \n",
       "\n",
       "   62  63  64  \n",
       "0   0   0   0  \n",
       "1   0   0   0  \n",
       "2   0   0   7  \n",
       "3   0   0   4  \n",
       "4   0   0   6  \n",
       "\n",
       "[5 rows x 65 columns]"
      ]
     },
     "execution_count": 1195,
     "metadata": {},
     "output_type": "execute_result"
    }
   ],
   "source": [
    "df_train.head()"
   ]
  },
  {
   "cell_type": "code",
   "execution_count": 1196,
   "id": "c40743aa",
   "metadata": {},
   "outputs": [
    {
     "data": {
      "text/html": [
       "<div>\n",
       "<style scoped>\n",
       "    .dataframe tbody tr th:only-of-type {\n",
       "        vertical-align: middle;\n",
       "    }\n",
       "\n",
       "    .dataframe tbody tr th {\n",
       "        vertical-align: top;\n",
       "    }\n",
       "\n",
       "    .dataframe thead th {\n",
       "        text-align: right;\n",
       "    }\n",
       "</style>\n",
       "<table border=\"1\" class=\"dataframe\">\n",
       "  <thead>\n",
       "    <tr style=\"text-align: right;\">\n",
       "      <th></th>\n",
       "      <th>0</th>\n",
       "      <th>1</th>\n",
       "      <th>2</th>\n",
       "      <th>3</th>\n",
       "      <th>4</th>\n",
       "      <th>5</th>\n",
       "      <th>6</th>\n",
       "      <th>7</th>\n",
       "      <th>8</th>\n",
       "      <th>9</th>\n",
       "      <th>...</th>\n",
       "      <th>55</th>\n",
       "      <th>56</th>\n",
       "      <th>57</th>\n",
       "      <th>58</th>\n",
       "      <th>59</th>\n",
       "      <th>60</th>\n",
       "      <th>61</th>\n",
       "      <th>62</th>\n",
       "      <th>63</th>\n",
       "      <th>64</th>\n",
       "    </tr>\n",
       "  </thead>\n",
       "  <tbody>\n",
       "    <tr>\n",
       "      <th>0</th>\n",
       "      <td>0</td>\n",
       "      <td>0</td>\n",
       "      <td>7</td>\n",
       "      <td>16</td>\n",
       "      <td>16</td>\n",
       "      <td>16</td>\n",
       "      <td>2</td>\n",
       "      <td>0</td>\n",
       "      <td>0</td>\n",
       "      <td>0</td>\n",
       "      <td>...</td>\n",
       "      <td>0</td>\n",
       "      <td>0</td>\n",
       "      <td>0</td>\n",
       "      <td>8</td>\n",
       "      <td>13</td>\n",
       "      <td>10</td>\n",
       "      <td>2</td>\n",
       "      <td>0</td>\n",
       "      <td>0</td>\n",
       "      <td>0</td>\n",
       "    </tr>\n",
       "    <tr>\n",
       "      <th>1</th>\n",
       "      <td>0</td>\n",
       "      <td>0</td>\n",
       "      <td>13</td>\n",
       "      <td>16</td>\n",
       "      <td>7</td>\n",
       "      <td>0</td>\n",
       "      <td>0</td>\n",
       "      <td>0</td>\n",
       "      <td>0</td>\n",
       "      <td>2</td>\n",
       "      <td>...</td>\n",
       "      <td>0</td>\n",
       "      <td>0</td>\n",
       "      <td>0</td>\n",
       "      <td>13</td>\n",
       "      <td>16</td>\n",
       "      <td>16</td>\n",
       "      <td>12</td>\n",
       "      <td>0</td>\n",
       "      <td>0</td>\n",
       "      <td>2</td>\n",
       "    </tr>\n",
       "    <tr>\n",
       "      <th>2</th>\n",
       "      <td>0</td>\n",
       "      <td>0</td>\n",
       "      <td>4</td>\n",
       "      <td>15</td>\n",
       "      <td>16</td>\n",
       "      <td>16</td>\n",
       "      <td>10</td>\n",
       "      <td>0</td>\n",
       "      <td>0</td>\n",
       "      <td>0</td>\n",
       "      <td>...</td>\n",
       "      <td>0</td>\n",
       "      <td>0</td>\n",
       "      <td>0</td>\n",
       "      <td>2</td>\n",
       "      <td>16</td>\n",
       "      <td>11</td>\n",
       "      <td>3</td>\n",
       "      <td>0</td>\n",
       "      <td>0</td>\n",
       "      <td>5</td>\n",
       "    </tr>\n",
       "    <tr>\n",
       "      <th>3</th>\n",
       "      <td>0</td>\n",
       "      <td>0</td>\n",
       "      <td>3</td>\n",
       "      <td>14</td>\n",
       "      <td>16</td>\n",
       "      <td>16</td>\n",
       "      <td>6</td>\n",
       "      <td>0</td>\n",
       "      <td>0</td>\n",
       "      <td>0</td>\n",
       "      <td>...</td>\n",
       "      <td>0</td>\n",
       "      <td>0</td>\n",
       "      <td>0</td>\n",
       "      <td>7</td>\n",
       "      <td>14</td>\n",
       "      <td>2</td>\n",
       "      <td>0</td>\n",
       "      <td>0</td>\n",
       "      <td>0</td>\n",
       "      <td>7</td>\n",
       "    </tr>\n",
       "    <tr>\n",
       "      <th>4</th>\n",
       "      <td>0</td>\n",
       "      <td>0</td>\n",
       "      <td>0</td>\n",
       "      <td>1</td>\n",
       "      <td>15</td>\n",
       "      <td>10</td>\n",
       "      <td>0</td>\n",
       "      <td>0</td>\n",
       "      <td>0</td>\n",
       "      <td>0</td>\n",
       "      <td>...</td>\n",
       "      <td>0</td>\n",
       "      <td>0</td>\n",
       "      <td>0</td>\n",
       "      <td>0</td>\n",
       "      <td>4</td>\n",
       "      <td>16</td>\n",
       "      <td>7</td>\n",
       "      <td>0</td>\n",
       "      <td>0</td>\n",
       "      <td>4</td>\n",
       "    </tr>\n",
       "  </tbody>\n",
       "</table>\n",
       "<p>5 rows × 65 columns</p>\n",
       "</div>"
      ],
      "text/plain": [
       "   0   1   2   3   4   5   6   7   8   9   ...  55  56  57  58  59  60  61  \\\n",
       "0   0   0   7  16  16  16   2   0   0   0  ...   0   0   0   8  13  10   2   \n",
       "1   0   0  13  16   7   0   0   0   0   2  ...   0   0   0  13  16  16  12   \n",
       "2   0   0   4  15  16  16  10   0   0   0  ...   0   0   0   2  16  11   3   \n",
       "3   0   0   3  14  16  16   6   0   0   0  ...   0   0   0   7  14   2   0   \n",
       "4   0   0   0   1  15  10   0   0   0   0  ...   0   0   0   0   4  16   7   \n",
       "\n",
       "   62  63  64  \n",
       "0   0   0   0  \n",
       "1   0   0   2  \n",
       "2   0   0   5  \n",
       "3   0   0   7  \n",
       "4   0   0   4  \n",
       "\n",
       "[5 rows x 65 columns]"
      ]
     },
     "execution_count": 1196,
     "metadata": {},
     "output_type": "execute_result"
    }
   ],
   "source": [
    "df_test.head()"
   ]
  },
  {
   "cell_type": "markdown",
   "id": "3aa8b554",
   "metadata": {},
   "source": [
    "#### Creating Numpy Arrays"
   ]
  },
  {
   "cell_type": "code",
   "execution_count": 1197,
   "id": "92357144",
   "metadata": {},
   "outputs": [],
   "source": [
    "#creating numpy arrays train and test out of pd dataframe for easier data manipulation \n",
    "train = df_train.to_numpy()\n",
    "test = df_test.to_numpy()\n"
   ]
  },
  {
   "cell_type": "code",
   "execution_count": 1198,
   "id": "f8f0834b",
   "metadata": {},
   "outputs": [
    {
     "data": {
      "text/plain": [
       "(2810, 65)"
      ]
     },
     "execution_count": 1198,
     "metadata": {},
     "output_type": "execute_result"
    }
   ],
   "source": [
    "#checking array shape for verfication \n",
    "train.shape\n"
   ]
  },
  {
   "cell_type": "markdown",
   "id": "f3f510c2",
   "metadata": {},
   "source": [
    "#### Creating train and test data with inputs and labels"
   ]
  },
  {
   "cell_type": "code",
   "execution_count": 1199,
   "id": "4c461528",
   "metadata": {},
   "outputs": [],
   "source": [
    "#creating train and test data\n",
    "\n",
    "#X_train contains all input values wich are the pixel values here. \n",
    "#The first 64 coloumns of each row are the input values\n",
    "X_train = train[:, :64] \n",
    "\n",
    "#Y_train contains all label/output values wich are the actual numbers\n",
    "Y_train = train[:, 64] \n",
    "\n",
    "#similary this will be test data\n",
    "X_test = test[:, :64]\n",
    "Y_test = test[:, 64]"
   ]
  },
  {
   "cell_type": "markdown",
   "id": "e1b4e6c6",
   "metadata": {},
   "source": [
    "# Section 2:\n",
    "### Defining Hyperparameter Variables and functions to initialize the weights along with functions to define activation functions for input and output layers"
   ]
  },
  {
   "cell_type": "markdown",
   "id": "b61707e3",
   "metadata": {},
   "source": [
    "#### Hyperparameter Variables"
   ]
  },
  {
   "cell_type": "code",
   "execution_count": 1200,
   "id": "25425d0f",
   "metadata": {},
   "outputs": [],
   "source": [
    "#defining hyperparameter variables \n",
    "\n",
    "#h is the number of neurons in the hidden layer\n",
    "#training_cycles is number of cycles\n",
    "#learning_rate is to control the models learning rate\n",
    "\n",
    "h = 256\n",
    "training_cycles = 800\n",
    "learning_rate = 0.009\n"
   ]
  },
  {
   "cell_type": "markdown",
   "id": "20fa065b",
   "metadata": {},
   "source": [
    "#### Initializing model weights "
   ]
  },
  {
   "cell_type": "markdown",
   "id": "9b414e85",
   "metadata": {},
   "source": [
    "Takes in argument 'h' and initalizes the weights for the model using HE Initialzation with variance 2/n_in for ReLU activation.\n",
    "Bias values are initalized using the 'h' called b1 and b2."
   ]
  },
  {
   "cell_type": "code",
   "execution_count": 1201,
   "id": "c2cd80ab",
   "metadata": {},
   "outputs": [],
   "source": [
    "def init_params(h):\n",
    "    w1 = np.random.randn(h, 64) * np.sqrt(2. / (64))  # He initialization\n",
    "    b1 = np.zeros((h, 1))  #bias value in input-hidden layer\n",
    "    \n",
    "    w2 = np.random.randn(10, h) * np.sqrt(2. / (h))  # He initialization\n",
    "    b2 = np.zeros((10, 1))  #bias value for hidden-output layer\n",
    "    return w1, b1, w2, b2\n"
   ]
  },
  {
   "cell_type": "markdown",
   "id": "11ddb15a",
   "metadata": {},
   "source": [
    "#### Defining Sigmoid and LeakyRelu activation functions"
   ]
  },
  {
   "cell_type": "code",
   "execution_count": 1202,
   "id": "feca330b",
   "metadata": {},
   "outputs": [],
   "source": [
    "#defineing Sigmoid function\n",
    "def sigmoid(Z):\n",
    "    return 1/(1+np.exp(-Z))\n"
   ]
  },
  {
   "cell_type": "code",
   "execution_count": 1203,
   "id": "4b1f4719",
   "metadata": {},
   "outputs": [],
   "source": [
    "def LeakyReLU(Z, alpha=0.01):\n",
    "    return np.where(Z > 0, Z, alpha * Z)\n"
   ]
  },
  {
   "cell_type": "markdown",
   "id": "3dde0794",
   "metadata": {},
   "source": [
    "# Section 3:\n",
    "### Defining feed_forward , label encoding and backward propogation function for the model"
   ]
  },
  {
   "cell_type": "markdown",
   "id": "7d728a43",
   "metadata": {},
   "source": [
    "#### Feed Forward Function "
   ]
  },
  {
   "cell_type": "markdown",
   "id": "f20c5bdd",
   "metadata": {},
   "source": [
    "Takes in arguments w1, b1, b2 and X. \n",
    "X will X_train or training input values"
   ]
  },
  {
   "cell_type": "code",
   "execution_count": null,
   "id": "0301d182",
   "metadata": {},
   "outputs": [],
   "source": [
    "def feed_forward(w1, b1, w2, b2, X):\n",
    "    Z1 = np.dot(w1, X.T) + b1\n",
    "    A1 = LeakyReLU(Z1)\n",
    "    \n",
    "    Z2 = np.dot(w2, A1) + b2\n",
    "    A2 = sigmoid(Z2)  \n",
    "    \n",
    "    return Z1, A1, Z2, A2\n",
    "\n",
    "#Returns:\n",
    "    #- Z1: Pre-activation values of the hidden layer (shape: [num_hidden_neurons, num_samples]).\n",
    "    #- A1: Activation values of the hidden layer after applying LeakyReLU (same shape as Z1).\n",
    "    #- Z2: Pre-activation values of the output layer (shape: [num_output_neurons, num_samples]).\n",
    "    #- A2: Activation values of the output layer after applying the sigmoid function (same shape as Z2)."
   ]
  },
  {
   "cell_type": "markdown",
   "id": "37082a29",
   "metadata": {},
   "source": [
    "#### Map Labels function "
   ]
  },
  {
   "cell_type": "markdown",
   "id": "6d2bf36a",
   "metadata": {},
   "source": [
    "Maps label to an array of size 10\n",
    "Output/Label values range from 0-9. \n",
    "\n",
    "Based on label value map 1 to an array\n",
    "ex: if label is 4 then map the 4th element as 3\n",
    "\n",
    "[0,0,0,1,0,0,0,0,0,0]\n"
   ]
  },
  {
   "cell_type": "code",
   "execution_count": 1205,
   "id": "47462366",
   "metadata": {},
   "outputs": [],
   "source": [
    "#mapping label to an array\n",
    "#ex: if label is 5 then map the 4th element as 1\n",
    "\n",
    "def map_labels(Y):\n",
    "    l1 = len(Y) #get len of the array\n",
    "    l2 = 10 #10 as the numbers range from 0-9\n",
    "    mapped_label = np.zeros((l2, l1), dtype=int)\n",
    "    for i, label in enumerate(Y):\n",
    "        mapped_label[label][i] = 1\n",
    "    return mapped_label\n"
   ]
  },
  {
   "cell_type": "markdown",
   "id": "07d753cc",
   "metadata": {},
   "source": [
    "#### LekyRelu derivative  function \n"
   ]
  },
  {
   "cell_type": "code",
   "execution_count": 1206,
   "id": "ddc74cf3",
   "metadata": {},
   "outputs": [],
   "source": [
    "def LeakyReLU_derivative(Z, alpha=0.01):\n",
    "    return np.where(Z > 0, 1, alpha)\n"
   ]
  },
  {
   "cell_type": "markdown",
   "id": "c6d36c47",
   "metadata": {},
   "source": [
    "#### Back Propogate  function "
   ]
  },
  {
   "cell_type": "markdown",
   "id": "69ba6b01",
   "metadata": {},
   "source": [
    "Calculate gradients for weights and biases in the output and hidden layers using backpropagation.\n",
    "Uses Leaky ReLU derivative for the hidden layer and mapped labels for the output layer.\n"
   ]
  },
  {
   "cell_type": "code",
   "execution_count": 1207,
   "id": "92d97f4c",
   "metadata": {},
   "outputs": [],
   "source": [
    "def back_prop(Z1, A1, Z2, A2, w2, X, Y):\n",
    "    m = Y.size\n",
    "    mapped_label = map_labels(Y)\n",
    "    \n",
    "    # Backpropagation for the output layer (Z2 -> A2)\n",
    "    dZ2 = A2 - mapped_label  # Gradient for output layer\n",
    "    dw2 = (1 / m) * np.dot(dZ2, A1.T)  # Gradient for w2\n",
    "    db2 = (1 / m) * np.sum(dZ2, axis=1, keepdims=True)  # Gradient for b2\n",
    "    \n",
    "    # Backpropagation for the hidden layer (Z1 -> A1)\n",
    "    dZ1 = np.dot(w2.T, dZ2) * LeakyReLU_derivative(Z1)  # Leaky ReLU derivative\n",
    "    dw1 = (1 / m) * np.dot(dZ1, X)  # Gradient for w1\n",
    "    db1 = (1 / m) * np.sum(dZ1, axis=1, keepdims=True)  # Gradient for b1\n",
    "    \n",
    "    #returns computed gradients of the weights \n",
    "    return dw1, db1, dw2, db2\n"
   ]
  },
  {
   "cell_type": "markdown",
   "id": "9f0eace2",
   "metadata": {},
   "source": [
    "#### Update Params Fucntion"
   ]
  },
  {
   "cell_type": "code",
   "execution_count": 1208,
   "id": "9824e320",
   "metadata": {},
   "outputs": [],
   "source": [
    "#function to update the params as we train\n",
    "#alpha is the learning rate\n",
    "\n",
    "def update_params(w1, b1, w2, b2, dw1, db1, dw2, db2, alpha):\n",
    "    w1 = w1 - alpha * dw1\n",
    "    b1 = b1 - alpha * db1\n",
    "    w2 = w2 - alpha * dw2\n",
    "    b2 = b2 - alpha * db2\n",
    "    return w1, b1, w2, b2\n",
    "\n"
   ]
  },
  {
   "cell_type": "markdown",
   "id": "8f8032e0",
   "metadata": {},
   "source": [
    "# Section 4:\n",
    "### Defining prediction and accuracy functions\n",
    "### Training the MLP Network"
   ]
  },
  {
   "cell_type": "markdown",
   "id": "579d0ba7",
   "metadata": {},
   "source": [
    "#### Prediction and Accuracy Functions"
   ]
  },
  {
   "cell_type": "code",
   "execution_count": 1209,
   "id": "64f070cf",
   "metadata": {},
   "outputs": [],
   "source": [
    "def get_predictions(A2):\n",
    "    print(\"Predictions (using np.argmax):\", np.argmax(A2, axis=0))  # Debugging\n",
    "    return np.argmax(A2, axis=0)\n"
   ]
  },
  {
   "cell_type": "code",
   "execution_count": 1210,
   "id": "15cec39c",
   "metadata": {},
   "outputs": [],
   "source": [
    "def get_accuracy(predictions, Y):\n",
    "    mapped_label = map_labels(Y)\n",
    "    accuracy = np.sum(predictions == np.argmax(mapped_label, axis=0)) / Y.size *100\n",
    "    return accuracy\n"
   ]
  },
  {
   "cell_type": "markdown",
   "id": "0aa2b301",
   "metadata": {},
   "source": [
    "#### Training the Network with RMS Prop"
   ]
  },
  {
   "cell_type": "markdown",
   "id": "694a24e6",
   "metadata": {},
   "source": [
    "Training function is definied below with RMS Prop optimizer\n",
    "\n",
    "Train the neural network using RMSprop optimization and dynamic learning rate adjustment. \n",
    "Includes weight decay for L2 regularization and early stopping based on accuracy improvement.\n",
    "Periodically evaluates test accuracy and saves the best model parameters.\n"
   ]
  },
  {
   "cell_type": "code",
   "execution_count": 1211,
   "id": "c743f538",
   "metadata": {
    "scrolled": false
   },
   "outputs": [],
   "source": [
    "\n",
    "def mlp_model(X_train, Y_train, X_test, Y_test, iterations, learning_rate):\n",
    "    # Initialize parameters\n",
    "    w1, b1, w2, b2 = init_params(h)  # h is the hidden layer size\n",
    "    \n",
    "    # RMSprop parameters\n",
    "    epsilon = 1e-8\n",
    "    weight_decay = 1e-4  # L2 regularization\n",
    "    \n",
    "    # RMSprop specific variables\n",
    "    cache_w1, cache_b1, cache_w2, cache_b2 = np.zeros_like(w1), np.zeros_like(b1), np.zeros_like(w2), np.zeros_like(b2)\n",
    "    \n",
    "    best_accuracy = 0\n",
    "    patience = 10\n",
    "    no_improve_counter = 0\n",
    "    \n",
    "    best_w1, best_b1, best_w2, best_b2 = w1.copy(), b1.copy(), w2.copy(), b2.copy()  \n",
    "    \n",
    "    for iteration in range(iterations):\n",
    "        # Dynamic learning rate adjustment\n",
    "        lr = learning_rate * (0.99 ** (iteration // 500))\n",
    "        \n",
    "        # Forward and backward pass\n",
    "        Z1, A1, Z2, A2 = feed_forward(w1, b1, w2, b2, X_train)\n",
    "        dw1, db1, dw2, db2 = back_prop(Z1, A1, Z2, A2, w2, X_train, Y_train)\n",
    "        \n",
    "        # Add weight decay (L2 regularization)\n",
    "        dw1 += weight_decay * w1\n",
    "        dw2 += weight_decay * w2\n",
    "        \n",
    "        # RMSprop optimization with squared gradients\n",
    "        cache_w1 = 0.9 * cache_w1 + 0.1 * (dw1 ** 2)\n",
    "        cache_b1 = 0.9 * cache_b1 + 0.1 * (db1 ** 2)\n",
    "        cache_w2 = 0.9 * cache_w2 + 0.1 * (dw2 ** 2)\n",
    "        cache_b2 = 0.9 * cache_b2 + 0.1 * (db2 ** 2)\n",
    "        \n",
    "        # Parameter updates with RMSprop\n",
    "        w1 -= lr * dw1 / (np.sqrt(cache_w1) + epsilon)\n",
    "        b1 -= lr * db1 / (np.sqrt(cache_b1) + epsilon)\n",
    "        w2 -= lr * dw2 / (np.sqrt(cache_w2) + epsilon)\n",
    "        b2 -= lr * db2 / (np.sqrt(cache_b2) + epsilon)\n",
    "                # Print training accuracy every 10 iterations\n",
    "\n",
    "        if iteration % 10 == 0:\n",
    "            Z1_train, A1_train, Z2_train, A2_train = feed_forward(w1, b1, w2, b2, X_train)\n",
    "            train_predictions = get_predictions(A2_train)\n",
    "            train_accuracy = get_accuracy(train_predictions, Y_train)\n",
    "            print(f\"Iteration {iteration}: Train Accuracy {train_accuracy:.2f}%\")\n",
    "            \n",
    "            \n",
    "        # Periodic evaluation every 100 iterations\n",
    "        if iteration % 100 == 0:\n",
    "            # Evaluate on training data\n",
    "            Z1_train, A1_train, Z2_train, A2_train = feed_forward(w1, b1, w2, b2, X_train)\n",
    "            train_predictions = get_predictions(A2_train)\n",
    "            train_accuracy = get_accuracy(train_predictions, Y_train)\n",
    "            \n",
    "            Z1_test, A1_test, Z2_test, A2_test = feed_forward(w1, b1, w2, b2, X_test)\n",
    "            test_predictions = get_predictions(A2_test)\n",
    "            test_accuracy = get_accuracy(test_predictions, Y_test)\n",
    "            \n",
    "            print(f\"Iteration {iteration}: Train Accuracy {train_accuracy:.2f}% | Test Accuracy {test_accuracy:.2f}% | Learning rate: {lr:.6f} | Weight Decay: {weight_decay:.6f}\")\n",
    "            \n",
    "            # Update best accuracy and monitor no improvement\n",
    "            if test_accuracy > best_accuracy:\n",
    "                best_accuracy = test_accuracy\n",
    "                best_w1, best_b1, best_w2, best_b2 = w1.copy(), b1.copy(), w2.copy(), b2.copy()  # Save the best model\n",
    "                no_improve_counter = 0\n",
    "            else:\n",
    "                no_improve_counter += 1\n",
    "            \n",
    "            # If we reach taget accuracy, stop\n",
    "            if test_accuracy >= 98.70:\n",
    "                print(f\"Achieved target accuracy of 98% at iteration {iteration}.\")\n",
    "                break\n",
    "            \n",
    "            # If no improvement after 'patience' iterations, adjust hyperparameters\n",
    "            if no_improve_counter > patience:\n",
    "                print(f\"No improvement for {patience} iterations. Adjusting hyperparameters...\")\n",
    "                weight_decay *= 0.5  # weight decay \n",
    "                learning_rate *= 0.9  # learning rate updates\n",
    "                no_improve_counter = 0  # Reset the counter\n",
    "    \n",
    "    # Once training is over, return the best model\n",
    "    return best_w1, best_b1, best_w2, best_b2\n",
    "\n"
   ]
  },
  {
   "cell_type": "markdown",
   "id": "807cc814",
   "metadata": {},
   "source": [
    "#### Training the model and calling the fucntion"
   ]
  },
  {
   "cell_type": "code",
   "execution_count": 1212,
   "id": "c7c1c96f",
   "metadata": {
    "scrolled": false
   },
   "outputs": [
    {
     "name": "stdout",
     "output_type": "stream",
     "text": [
      "Predictions (using np.argmax): [6 6 6 ... 6 6 6]\n",
      "Iteration 0: Train Accuracy 9.75%\n",
      "Predictions (using np.argmax): [6 6 6 ... 6 6 6]\n",
      "Predictions (using np.argmax): [6 6 6 ... 6 6 6]\n",
      "Iteration 0: Train Accuracy 9.75% | Test Accuracy 10.11% | Learning rate: 0.009000 | Weight Decay: 0.000100\n",
      "Predictions (using np.argmax): [0 0 7 ... 2 1 7]\n",
      "Iteration 10: Train Accuracy 83.99%\n",
      "Predictions (using np.argmax): [0 0 7 ... 2 1 7]\n",
      "Iteration 20: Train Accuracy 92.10%\n",
      "Predictions (using np.argmax): [0 0 7 ... 2 1 7]\n",
      "Iteration 30: Train Accuracy 96.48%\n",
      "Predictions (using np.argmax): [0 0 7 ... 2 1 7]\n",
      "Iteration 40: Train Accuracy 86.94%\n",
      "Predictions (using np.argmax): [0 0 7 ... 8 1 7]\n",
      "Iteration 50: Train Accuracy 98.33%\n",
      "Predictions (using np.argmax): [0 0 7 ... 8 1 7]\n",
      "Iteration 60: Train Accuracy 96.62%\n",
      "Predictions (using np.argmax): [0 0 7 ... 8 1 7]\n",
      "Iteration 70: Train Accuracy 99.22%\n",
      "Predictions (using np.argmax): [0 0 7 ... 8 1 7]\n",
      "Iteration 80: Train Accuracy 83.20%\n",
      "Predictions (using np.argmax): [0 0 7 ... 8 1 7]\n",
      "Iteration 90: Train Accuracy 99.36%\n",
      "Predictions (using np.argmax): [0 0 7 ... 2 1 7]\n",
      "Iteration 100: Train Accuracy 92.06%\n",
      "Predictions (using np.argmax): [0 0 7 ... 2 1 7]\n",
      "Predictions (using np.argmax): [0 2 5 ... 1 9 6]\n",
      "Iteration 100: Train Accuracy 92.06% | Test Accuracy 89.11% | Learning rate: 0.009000 | Weight Decay: 0.000100\n",
      "Predictions (using np.argmax): [0 0 7 ... 8 1 7]\n",
      "Iteration 110: Train Accuracy 99.47%\n",
      "Predictions (using np.argmax): [0 0 7 ... 8 1 7]\n",
      "Iteration 120: Train Accuracy 99.86%\n",
      "Predictions (using np.argmax): [0 0 7 ... 8 1 7]\n",
      "Iteration 130: Train Accuracy 96.37%\n",
      "Predictions (using np.argmax): [0 0 7 ... 8 1 7]\n",
      "Iteration 140: Train Accuracy 99.75%\n",
      "Predictions (using np.argmax): [0 0 7 ... 8 1 7]\n",
      "Iteration 150: Train Accuracy 99.93%\n",
      "Predictions (using np.argmax): [0 0 7 ... 8 1 7]\n",
      "Iteration 160: Train Accuracy 100.00%\n",
      "Predictions (using np.argmax): [0 0 7 ... 2 1 7]\n",
      "Iteration 170: Train Accuracy 91.39%\n",
      "Predictions (using np.argmax): [0 0 7 ... 8 1 7]\n",
      "Iteration 180: Train Accuracy 99.96%\n",
      "Predictions (using np.argmax): [0 0 7 ... 8 1 7]\n",
      "Iteration 190: Train Accuracy 99.96%\n",
      "Predictions (using np.argmax): [0 0 7 ... 8 1 7]\n",
      "Iteration 200: Train Accuracy 99.96%\n",
      "Predictions (using np.argmax): [0 0 7 ... 8 1 7]\n",
      "Predictions (using np.argmax): [0 2 5 ... 8 9 8]\n",
      "Iteration 200: Train Accuracy 99.96% | Test Accuracy 98.11% | Learning rate: 0.009000 | Weight Decay: 0.000100\n",
      "Predictions (using np.argmax): [0 0 7 ... 8 1 7]\n",
      "Iteration 210: Train Accuracy 99.64%\n",
      "Predictions (using np.argmax): [0 0 7 ... 8 1 7]\n",
      "Iteration 220: Train Accuracy 100.00%\n",
      "Predictions (using np.argmax): [0 0 7 ... 8 1 7]\n",
      "Iteration 230: Train Accuracy 100.00%\n",
      "Predictions (using np.argmax): [0 0 7 ... 8 1 7]\n",
      "Iteration 240: Train Accuracy 100.00%\n",
      "Predictions (using np.argmax): [0 0 7 ... 8 9 7]\n",
      "Iteration 250: Train Accuracy 88.93%\n",
      "Predictions (using np.argmax): [0 0 7 ... 8 1 7]\n",
      "Iteration 260: Train Accuracy 99.96%\n",
      "Predictions (using np.argmax): [0 0 7 ... 8 1 7]\n",
      "Iteration 270: Train Accuracy 100.00%\n",
      "Predictions (using np.argmax): [0 0 7 ... 8 1 7]\n",
      "Iteration 280: Train Accuracy 100.00%\n",
      "Predictions (using np.argmax): [0 0 7 ... 8 1 7]\n",
      "Iteration 290: Train Accuracy 87.90%\n",
      "Predictions (using np.argmax): [0 0 7 ... 8 1 7]\n",
      "Iteration 300: Train Accuracy 100.00%\n",
      "Predictions (using np.argmax): [0 0 7 ... 8 1 7]\n",
      "Predictions (using np.argmax): [0 2 5 ... 8 9 8]\n",
      "Iteration 300: Train Accuracy 100.00% | Test Accuracy 97.76% | Learning rate: 0.009000 | Weight Decay: 0.000100\n",
      "Predictions (using np.argmax): [0 0 7 ... 8 1 7]\n",
      "Iteration 310: Train Accuracy 100.00%\n",
      "Predictions (using np.argmax): [0 0 7 ... 8 1 7]\n",
      "Iteration 320: Train Accuracy 100.00%\n",
      "Predictions (using np.argmax): [0 0 7 ... 8 1 7]\n",
      "Iteration 330: Train Accuracy 100.00%\n",
      "Predictions (using np.argmax): [0 0 7 ... 8 1 7]\n",
      "Iteration 340: Train Accuracy 100.00%\n",
      "Predictions (using np.argmax): [0 0 7 ... 8 1 1]\n",
      "Iteration 350: Train Accuracy 90.46%\n",
      "Predictions (using np.argmax): [0 0 7 ... 8 1 7]\n",
      "Iteration 360: Train Accuracy 100.00%\n",
      "Predictions (using np.argmax): [0 0 7 ... 8 1 7]\n",
      "Iteration 370: Train Accuracy 100.00%\n",
      "Predictions (using np.argmax): [0 0 7 ... 8 1 7]\n",
      "Iteration 380: Train Accuracy 100.00%\n",
      "Predictions (using np.argmax): [0 0 7 ... 8 1 7]\n",
      "Iteration 390: Train Accuracy 100.00%\n",
      "Predictions (using np.argmax): [0 0 7 ... 8 1 7]\n",
      "Iteration 400: Train Accuracy 100.00%\n",
      "Predictions (using np.argmax): [0 0 7 ... 8 1 7]\n",
      "Predictions (using np.argmax): [0 2 5 ... 8 9 8]\n",
      "Iteration 400: Train Accuracy 100.00% | Test Accuracy 97.83% | Learning rate: 0.009000 | Weight Decay: 0.000100\n",
      "Predictions (using np.argmax): [0 0 7 ... 8 1 7]\n",
      "Iteration 410: Train Accuracy 100.00%\n",
      "Predictions (using np.argmax): [0 0 7 ... 8 1 7]\n",
      "Iteration 420: Train Accuracy 99.57%\n",
      "Predictions (using np.argmax): [0 0 7 ... 8 1 7]\n",
      "Iteration 430: Train Accuracy 99.96%\n",
      "Predictions (using np.argmax): [0 0 7 ... 8 1 7]\n",
      "Iteration 440: Train Accuracy 100.00%\n",
      "Predictions (using np.argmax): [0 0 7 ... 8 1 7]\n",
      "Iteration 450: Train Accuracy 100.00%\n",
      "Predictions (using np.argmax): [0 0 7 ... 8 1 7]\n",
      "Iteration 460: Train Accuracy 100.00%\n",
      "Predictions (using np.argmax): [0 0 7 ... 8 1 7]\n",
      "Iteration 470: Train Accuracy 100.00%\n",
      "Predictions (using np.argmax): [0 0 7 ... 8 1 7]\n",
      "Iteration 480: Train Accuracy 100.00%\n",
      "Predictions (using np.argmax): [0 0 7 ... 8 1 7]\n",
      "Iteration 490: Train Accuracy 98.83%\n",
      "Predictions (using np.argmax): [0 0 7 ... 8 1 7]\n",
      "Iteration 500: Train Accuracy 100.00%\n",
      "Predictions (using np.argmax): [0 0 7 ... 8 1 7]\n",
      "Predictions (using np.argmax): [0 2 5 ... 8 9 8]\n",
      "Iteration 500: Train Accuracy 100.00% | Test Accuracy 97.76% | Learning rate: 0.008910 | Weight Decay: 0.000100\n",
      "Predictions (using np.argmax): [0 0 7 ... 8 1 7]\n",
      "Iteration 510: Train Accuracy 100.00%\n",
      "Predictions (using np.argmax): [0 0 7 ... 8 1 7]\n",
      "Iteration 520: Train Accuracy 100.00%\n",
      "Predictions (using np.argmax): [0 0 7 ... 8 1 7]\n",
      "Iteration 530: Train Accuracy 100.00%\n",
      "Predictions (using np.argmax): [0 0 7 ... 8 1 7]\n",
      "Iteration 540: Train Accuracy 100.00%\n",
      "Predictions (using np.argmax): [0 0 7 ... 8 1 7]\n",
      "Iteration 550: Train Accuracy 90.89%\n",
      "Predictions (using np.argmax): [0 0 7 ... 8 1 7]\n",
      "Iteration 560: Train Accuracy 100.00%\n",
      "Predictions (using np.argmax): [0 0 7 ... 8 1 7]\n",
      "Iteration 570: Train Accuracy 100.00%\n",
      "Predictions (using np.argmax): [0 0 7 ... 8 1 7]\n",
      "Iteration 580: Train Accuracy 100.00%\n",
      "Predictions (using np.argmax): [0 0 7 ... 8 1 7]\n",
      "Iteration 590: Train Accuracy 100.00%\n",
      "Predictions (using np.argmax): [0 0 7 ... 8 1 7]\n",
      "Iteration 600: Train Accuracy 100.00%\n",
      "Predictions (using np.argmax): [0 0 7 ... 8 1 7]\n",
      "Predictions (using np.argmax): [0 2 5 ... 8 9 8]\n",
      "Iteration 600: Train Accuracy 100.00% | Test Accuracy 97.72% | Learning rate: 0.008910 | Weight Decay: 0.000100\n",
      "Predictions (using np.argmax): [0 0 7 ... 8 1 7]\n",
      "Iteration 610: Train Accuracy 100.00%\n",
      "Predictions (using np.argmax): [0 0 7 ... 8 8 7]\n",
      "Iteration 620: Train Accuracy 92.03%\n",
      "Predictions (using np.argmax): [0 0 7 ... 8 1 7]\n",
      "Iteration 630: Train Accuracy 99.89%\n",
      "Predictions (using np.argmax): [0 0 7 ... 8 1 7]\n",
      "Iteration 640: Train Accuracy 100.00%\n",
      "Predictions (using np.argmax): [0 0 7 ... 8 1 7]\n",
      "Iteration 650: Train Accuracy 100.00%\n",
      "Predictions (using np.argmax): [0 0 7 ... 8 1 7]\n",
      "Iteration 660: Train Accuracy 100.00%\n",
      "Predictions (using np.argmax): [0 0 7 ... 8 1 7]\n",
      "Iteration 670: Train Accuracy 100.00%\n",
      "Predictions (using np.argmax): [0 0 7 ... 8 1 7]\n",
      "Iteration 680: Train Accuracy 100.00%\n",
      "Predictions (using np.argmax): [0 0 7 ... 8 1 7]\n",
      "Iteration 690: Train Accuracy 100.00%\n",
      "Predictions (using np.argmax): [0 0 7 ... 8 1 7]\n",
      "Iteration 700: Train Accuracy 99.93%\n",
      "Predictions (using np.argmax): [0 0 7 ... 8 1 7]\n",
      "Predictions (using np.argmax): [0 2 5 ... 8 9 8]\n",
      "Iteration 700: Train Accuracy 99.93% | Test Accuracy 97.47% | Learning rate: 0.008910 | Weight Decay: 0.000100\n",
      "Predictions (using np.argmax): [0 0 7 ... 8 1 7]\n",
      "Iteration 710: Train Accuracy 100.00%\n",
      "Predictions (using np.argmax): [0 0 7 ... 8 1 7]\n",
      "Iteration 720: Train Accuracy 100.00%\n",
      "Predictions (using np.argmax): [0 0 7 ... 8 1 7]\n",
      "Iteration 730: Train Accuracy 100.00%\n",
      "Predictions (using np.argmax): [0 0 7 ... 8 1 7]\n",
      "Iteration 740: Train Accuracy 100.00%\n",
      "Predictions (using np.argmax): [0 0 7 ... 8 1 7]\n",
      "Iteration 750: Train Accuracy 100.00%\n",
      "Predictions (using np.argmax): [0 0 7 ... 8 1 7]\n",
      "Iteration 760: Train Accuracy 100.00%\n",
      "Predictions (using np.argmax): [0 0 7 ... 8 1 7]\n",
      "Iteration 770: Train Accuracy 98.11%\n",
      "Predictions (using np.argmax): [0 0 7 ... 8 1 7]\n",
      "Iteration 780: Train Accuracy 100.00%\n",
      "Predictions (using np.argmax): [0 0 7 ... 8 1 7]\n",
      "Iteration 790: Train Accuracy 100.00%\n"
     ]
    }
   ],
   "source": [
    "# Execute with RMSprop optimization and train the model\n",
    "best_w1, best_b1, best_w2, best_b2 = mlp_model(X_train, Y_train, X_test, Y_test, iterations=training_cycles, learning_rate = learning_rate)"
   ]
  },
  {
   "cell_type": "markdown",
   "id": "9028dd0b",
   "metadata": {},
   "source": [
    "# Section 5: Evaluation\n",
    "### Finally evaluating the Model and getting is accuracy on test data"
   ]
  },
  {
   "cell_type": "markdown",
   "id": "bb95f866",
   "metadata": {},
   "source": [
    "#### Function to Evaluate the model and calling accuracy fucntion to get performance results on test data"
   ]
  },
  {
   "cell_type": "code",
   "execution_count": 1213,
   "id": "ec946dfc",
   "metadata": {},
   "outputs": [],
   "source": [
    "def model_eval(X, Y, w1, b1, w2, b2):\n",
    "    Z1, A1, Z2, A2 = feed_forward(w1, b1, w2, b2, X) \n",
    "    predictions = get_predictions(A2)                \n",
    "    accuracy = get_accuracy(predictions, Y)          \n",
    "    print(f\"Accuracy on Test Data: {accuracy:.2f}%\")  \n",
    "    return accuracy\n"
   ]
  },
  {
   "cell_type": "markdown",
   "id": "49d52805",
   "metadata": {},
   "source": [
    "#### Final Accuracy score on Test Data"
   ]
  },
  {
   "cell_type": "code",
   "execution_count": 1214,
   "id": "0beb7b96",
   "metadata": {},
   "outputs": [
    {
     "name": "stdout",
     "output_type": "stream",
     "text": [
      "Predictions (using np.argmax): [0 2 5 ... 8 9 8]\n",
      "Accuracy on Test Data: 98.11%\n"
     ]
    }
   ],
   "source": [
    "#call the modal eval function and print the final accuracy \n",
    "accuracy = model_eval(X_test, Y_test,best_w1, best_b1, best_w2, best_b2)"
   ]
  },
  {
   "cell_type": "code",
   "execution_count": 1215,
   "id": "e8df1cc7",
   "metadata": {},
   "outputs": [],
   "source": [
    "#function to perform predictions, this will be used for the plots below \n",
    "def perform_predictions(w1, b1, w2, b2, X_test):\n",
    "    Z1, A1, Z2, A2 = feed_forward(w1, b1, w2, b2, X_test)\n",
    "    predictions = get_predictions(A2)  \n",
    "    return predictions\n"
   ]
  },
  {
   "cell_type": "markdown",
   "id": "05d483f2",
   "metadata": {},
   "source": [
    "#### Function to select 4 random samples from test data, get actual vs predicted values and plot them"
   ]
  },
  {
   "cell_type": "code",
   "execution_count": 1216,
   "id": "cd08820d",
   "metadata": {},
   "outputs": [],
   "source": [
    "#function to plot predictions for visualization purposes\n",
    "def plot_predictions(X_test, Y_test, w1, b1, w2, b2, num_samples=4):\n",
    "    random_indices = random.sample(range(X_test.shape[0]), num_samples)\n",
    "    selected_X = X_test[random_indices, :]\n",
    "    selected_Y = Y_test[random_indices]\n",
    "\n",
    "    Z1, A1, Z2, A2 = feed_forward(w1, b1, w2, b2, selected_X)\n",
    "    predictions = get_predictions(A2)\n",
    "\n",
    "    plt.figure(figsize=(10, 5))\n",
    "    for i in range(num_samples):\n",
    "        plt.subplot(1, num_samples, i + 1)\n",
    "        plt.imshow(selected_X[i].reshape(8, 8), cmap='gray')\n",
    "        plt.title(f\"Actual: {selected_Y[i]}\\nPredicted: {predictions[i]}\")\n",
    "        plt.axis('off')\n",
    "    \n",
    "    plt.tight_layout()\n",
    "    plt.show()"
   ]
  },
  {
   "cell_type": "code",
   "execution_count": 1217,
   "id": "bba0e238",
   "metadata": {},
   "outputs": [
    {
     "name": "stdout",
     "output_type": "stream",
     "text": [
      "Predictions (using np.argmax): [3 0 7 5]\n"
     ]
    },
    {
     "data": {
      "image/png": "[encoded data removed]",
      "text/plain": [
       "<Figure size 1000x500 with 4 Axes>"
      ]
     },
     "metadata": {},
     "output_type": "display_data"
    }
   ],
   "source": [
    "#plot predictions function being called\n",
    "plot_predictions(X_test, Y_test, best_w1, best_b1, best_w2, best_b2)\n"
   ]
  },
  {
   "cell_type": "code",
   "execution_count": 1218,
   "id": "28036120",
   "metadata": {},
   "outputs": [],
   "source": [
    "\n",
    "def plot_confusion_matrix(X_test, Y_test, w1, b1, w2, b2):\n",
    "    \n",
    "    predictions = perform_predictions(best_w1, best_b1, best_w2, best_b2,X_test)\n",
    "\n",
    "    # Number of classes \n",
    "    num_classes = len(np.unique(Y_test))\n",
    "    \n",
    "    # Create the confusion matrix\n",
    "    confusion_matrix = np.zeros((num_classes, num_classes), dtype=int)\n",
    "    for true_label, pred_label in zip(Y_test, predictions):\n",
    "        confusion_matrix[true_label, pred_label] += 1\n",
    "    \n",
    "    # Plot the confusion matrix\n",
    "    plt.figure(figsize=(10, 8))\n",
    "    sns.heatmap(confusion_matrix, annot=True, fmt='d', cmap='Blues', \n",
    "                xticklabels=range(num_classes), yticklabels=range(num_classes))\n",
    "    plt.xlabel('Predicted Label')\n",
    "    plt.ylabel('True Label')\n",
    "    plt.title('Confusion Matrix')\n",
    "    plt.show()\n"
   ]
  },
  {
   "cell_type": "code",
   "execution_count": 1219,
   "id": "3a1c772c",
   "metadata": {},
   "outputs": [
    {
     "name": "stdout",
     "output_type": "stream",
     "text": [
      "Predictions (using np.argmax): [0 2 5 ... 8 9 8]\n"
     ]
    },
    {
     "data": {
      "image/png": "[encoded data removed]",
      "text/plain": [
       "<Figure size 1000x800 with 2 Axes>"
      ]
     },
     "metadata": {},
     "output_type": "display_data"
    }
   ],
   "source": [
    "plot_confusion_matrix(X_test, Y_test, best_w1, best_b1, best_w2, best_b2)\n"
   ]
  }
 ],
 "metadata": {
  "kernelspec": {
   "display_name": "Python 3",
   "language": "python",
   "name": "python3"
  },
  "language_info": {
   "codemirror_mode": {
    "name": "ipython",
    "version": 3
   },
   "file_extension": ".py",
   "mimetype": "text/x-python",
   "name": "python",
   "nbconvert_exporter": "python",
   "pygments_lexer": "ipython3",
   "version": "3.10.11"
  }
 },
 "nbformat": 4,
 "nbformat_minor": 5
}
